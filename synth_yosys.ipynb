{
 "cells": [
  {
   "cell_type": "code",
   "execution_count": null,
   "metadata": {
    "hide_input": false
   },
   "outputs": [],
   "source": [
    "!pip install jupyter_contrib_nbextensions\n",
    "!jupyter contrib nbextension install --user"
   ]
  },
  {
   "cell_type": "code",
   "execution_count": null,
   "metadata": {
    "hide_input": false
   },
   "outputs": [],
   "source": [
    "!pip install jupyter_contrib_nbextensions && jupyter contrib nbextension install "
   ]
  },
  {
   "cell_type": "code",
   "execution_count": null,
   "metadata": {
    "hide_input": false
   },
   "outputs": [],
   "source": [
    "!conda install -c conda-forge jupyter_contrib_nbextensions jupyter_nbextensions_configurator"
   ]
  },
  {
   "cell_type": "code",
   "execution_count": null,
   "metadata": {
    "hide_input": false
   },
   "outputs": [],
   "source": [
    "!pip install wget"
   ]
  },
  {
   "cell_type": "code",
   "execution_count": null,
   "metadata": {
    "hide_input": false
   },
   "outputs": [],
   "source": [
    "!python -m wget https://github.com/potassco/clingo/releases/download/v5.1.0/clingo-5.1.0-win64.zip"
   ]
  },
  {
   "cell_type": "code",
   "execution_count": null,
   "metadata": {
    "hide_input": false
   },
   "outputs": [],
   "source": [
    "!python -m zipfile -e clingo-5.1.0-win64.zip ."
   ]
  },
  {
   "cell_type": "code",
   "execution_count": null,
   "metadata": {
    "hide_input": false
   },
   "outputs": [],
   "source": [
    "!.\\clingo-5.1.0-win64\\clingo.exe -v"
   ]
  },
  {
   "cell_type": "code",
   "execution_count": null,
   "metadata": {
    "hide_input": false
   },
   "outputs": [],
   "source": [
    "!copy clingo-5.1.0-win64\\clingo.exe ."
   ]
  },
  {
   "cell_type": "code",
   "execution_count": null,
   "metadata": {
    "hide_input": false
   },
   "outputs": [],
   "source": [
    "!clingo -v"
   ]
  },
  {
   "cell_type": "code",
   "execution_count": null,
   "metadata": {
    "hide_input": false
   },
   "outputs": [],
   "source": [
    "%%file coins.lp\n",
    "\n",
    "% Flip 10 coins:\n",
    "1 { heads(C); tails(C) } 1 :- C=1..10."
   ]
  },
  {
   "cell_type": "code",
   "execution_count": null,
   "metadata": {
    "hide_input": false
   },
   "outputs": [],
   "source": [
    "!clingo coins.lp -q 0"
   ]
  },
  {
   "cell_type": "code",
   "execution_count": null,
   "metadata": {
    "hide_input": false
   },
   "outputs": [],
   "source": [
    "!python -m wget http://www.clifford.at/yosys/nogit/win32/yosys-win32-mxebin-0.7.zip"
   ]
  },
  {
   "cell_type": "code",
   "execution_count": null,
   "metadata": {
    "hide_input": false
   },
   "outputs": [],
   "source": [
    "!python -m zipfile -e yosys-win32-mxebin-0.7.zip ."
   ]
  },
  {
   "cell_type": "code",
   "execution_count": null,
   "metadata": {
    "hide_input": false
   },
   "outputs": [],
   "source": [
    "!.\\yosys-win32-mxebin-0.7\\yosys.exe -V"
   ]
  },
  {
   "cell_type": "code",
   "execution_count": null,
   "metadata": {
    "hide_input": false
   },
   "outputs": [],
   "source": [
    "!.\\yosys-win32-mxebin-0.7\\yosys.exe -p \"synth; write_json counter.json\" -f verilog -q b19_routed_tight_100.v"
   ]
  },
  {
   "cell_type": "markdown",
   "metadata": {},
   "source": [
    "RTL Benchs: \n",
    "(21) AEST100, AEST200, ... AEST2100\n",
    "(3)  b19-T300,b19-T400, b19-T500\n",
    "(9)  RS232-T100, RS232-T200, ... RS232-T900\n",
    "(1)  memctrl-T100"
   ]
  },
  {
   "cell_type": "markdown",
   "metadata": {
    "hide_input": true
   },
   "source": [
    "flatten \n",
    "synth -top aes\n",
    "flatten\n",
    "dfflibmap -liberty osu035_stdcells.lib\n",
    "abc -liberty osu035_stdcells.lib"
   ]
  },
  {
   "cell_type": "code",
   "execution_count": null,
   "metadata": {
    "ExecuteTime": {
     "end_time": "2021-01-08T15:10:00.368642Z",
     "start_time": "2021-01-08T15:05:42.110901Z"
    },
    "hide_input": false,
    "scrolled": false
   },
   "outputs": [],
   "source": [
    "!.\\yosys-win32-mxebin-0.7\\yosys.exe -p \"synth -top top; flatten; techmap; dfflibmap -liberty osu035_stdcells.lib;  abc -liberty osu035_stdcells.lib; write_verilog AEST100\\AEST100_flattened.v\" -f verilog -q  AEST100\\aes_128.v AEST100\\lfsr.v AEST100\\round.v AEST100\\table.v AEST100\\top.v AEST100\\TSC.v\n",
    "# !.\\yosys-win32-mxebin-0.7\\yosys.exe -p \"synth -top top; flatten; techmap; dfflibmap -liberty osu035_stdcells.lib;  abc -liberty osu035_stdcells.lib; write_verilog AEST200\\AEST200_flattened.v\" -f verilog -q  AEST200\\aes_128.v AEST200\\lfsr.v AEST200\\round.v AEST200\\table.v AEST200\\top.v AEST200\\TSC.v\n",
    "# !.\\yosys-win32-mxebin-0.7\\yosys.exe -p \"synth -top top; flatten; techmap; dfflibmap -liberty osu035_stdcells.lib;  abc -liberty osu035_stdcells.lib; write_verilog AEST300\\AEST300_flattened.v\" -f verilog -q  AEST300\\aes_128.v AEST300\\round.v AEST300\\table.v AEST300\\top.v AEST300\\TSC.v\n",
    "# !.\\yosys-win32-mxebin-0.7\\yosys.exe -p \"synth -top top; flatten; techmap; dfflibmap -liberty osu035_stdcells.lib;  abc -liberty osu035_stdcells.lib; write_verilog AEST400\\AEST400_flattened.v\" -f verilog -q  AEST400\\aes_128.v AEST400\\round.v AEST400\\table.v AEST400\\top.v AEST400\\Trojan_Trigger.v AEST400\\AM_Transmission.v\n",
    "# !.\\yosys-win32-mxebin-0.7\\yosys.exe -p \"synth -top top; flatten; techmap; dfflibmap -liberty osu035_stdcells.lib;  abc -liberty osu035_stdcells.lib; write_verilog AEST500\\AEST500_flattened.v\" -f verilog -q  AEST500\\aes_128.v AEST500\\round.v AEST500\\table.v AEST500\\top.v AEST500\\TSC.v\n",
    "# !.\\yosys-win32-mxebin-0.7\\yosys.exe -p \"synth -top top; flatten; techmap; dfflibmap -liberty osu035_stdcells.lib;  abc -liberty osu035_stdcells.lib; write_verilog AEST600\\AEST600_flattened.v\" -f verilog -q  AEST600\\aes_128.v AEST600\\Trojan_Trigger.v AEST600\\round.v AEST600\\table.v AEST600\\top.v AEST600\\TSC.v\n",
    "# !.\\yosys-win32-mxebin-0.7\\yosys.exe -p \"synth -top top; flatten; techmap; dfflibmap -liberty osu035_stdcells.lib;  abc -liberty osu035_stdcells.lib; write_verilog AEST700\\AEST700_flattened.v\" -f verilog -q  AEST700\\aes_128.v AEST700\\lfsr.v AEST700\\round.v AEST700\\table.v AEST700\\top.v AEST700\\TSC.v AEST700\\Trojan_Trigger.v\n",
    "# !.\\yosys-win32-mxebin-0.7\\yosys.exe -p \"synth -top top; flatten; techmap; dfflibmap -liberty osu035_stdcells.lib;  abc -liberty osu035_stdcells.lib; write_verilog AEST800\\AEST800_flattened.v\" -f verilog -q  AEST800\\aes_128.v AEST800\\lfsr.v AEST800\\round.v AEST800\\table.v AEST800\\top.v AEST800\\TSC.v AEST800\\Trojan_Trigger.v\n",
    "# !.\\yosys-win32-mxebin-0.7\\yosys.exe -p \"synth -top top; flatten; techmap; dfflibmap -liberty osu035_stdcells.lib;  abc -liberty osu035_stdcells.lib; write_verilog AEST900\\AEST900_flattened.v\" -f verilog -q  AEST900\\aes_128.v AEST900\\lfsr.v AEST900\\round.v AEST900\\table.v AEST900\\top.v AEST900\\TSC.v AEST900\\Trojan_Trigger.v\n",
    "# !.\\yosys-win32-mxebin-0.7\\yosys.exe -p \"synth -top top; flatten; techmap; dfflibmap -liberty osu035_stdcells.lib;  abc -liberty osu035_stdcells.lib; write_verilog AEST1000\\AEST1000_flattened.v\" -f verilog -q  AEST1000\\aes_128.v AEST1000\\lfsr.v AEST1000\\round.v AEST1000\\table.v AEST1000\\top.v AEST1000\\TSC.v AEST1000\\Trojan_Trigger.v\n",
    "# !.\\yosys-win32-mxebin-0.7\\yosys.exe -p \"synth -top top; flatten; techmap; dfflibmap -liberty osu035_stdcells.lib;  abc -liberty osu035_stdcells.lib; write_verilog AEST1100\\AEST1100_flattened.v\" -f verilog -q  AEST1100\\aes_128.v AEST1100\\lfsr.v AEST1100\\round.v AEST1100\\table.v AEST1100\\top.v AEST1100\\TSC.v AEST1100\\Trojan_Trigger.v\n",
    "\n",
    "##################################################################################################################\n"
   ]
  },
  {
   "cell_type": "code",
   "execution_count": null,
   "metadata": {
    "ExecuteTime": {
     "end_time": "2021-01-07T06:44:41.526023Z",
     "start_time": "2021-01-07T06:43:35.063752Z"
    },
    "hide_input": false,
    "scrolled": true
   },
   "outputs": [],
   "source": [
    "!.\\yosys-win32-mxebin-0.7\\yosys.exe -p \"flatten; opt; freduce; write_verilog AEST100\\AEST100_flattened.v\" -f verilog -q  AEST100\\synth_AEST100.v \n",
    "!.\\yosys-win32-mxebin-0.7\\yosys.exe -p \"flatten; opt; freduce; write_verilog AEST200\\AEST200_flattened.v\" -f verilog -q  AEST200\\synth_AEST200.v \n",
    "!.\\yosys-win32-mxebin-0.7\\yosys.exe -p \"flatten; opt; freduce; write_verilog AEST300\\AEST300_flattened.v\" -f verilog -q  AEST300\\synth_AEST300.v \n",
    "!.\\yosys-win32-mxebin-0.7\\yosys.exe -p \"flatten; opt; freduce; write_verilog AEST400\\AEST400_flattened.v\" -f verilog -q  AEST400\\synth_AEST400.v \n",
    "!.\\yosys-win32-mxebin-0.7\\yosys.exe -p \"flatten; opt; freduce; write_verilog AEST500\\AEST500_flattened.v\" -f verilog -q  AEST500\\synth_AEST500.v \n",
    "!.\\yosys-win32-mxebin-0.7\\yosys.exe -p \"flatten; opt; freduce; write_verilog AEST600\\AEST600_flattened.v\" -f verilog -q  AEST600\\synth_AEST600.v \n",
    "!.\\yosys-win32-mxebin-0.7\\yosys.exe -p \"flatten; opt; freduce; write_verilog AEST700\\AEST700_flattened.v\" -f verilog -q  AEST700\\synth_AEST700.v \n",
    "!.\\yosys-win32-mxebin-0.7\\yosys.exe -p \"flatten; opt; freduce; write_verilog AEST800\\AEST800_flattened.v\" -f verilog -q  AEST800\\synth_AEST800.v "
   ]
  },
  {
   "cell_type": "code",
   "execution_count": null,
   "metadata": {
    "ExecuteTime": {
     "end_time": "2021-01-07T16:43:05.194091Z",
     "start_time": "2021-01-07T16:42:26.644598Z"
    },
    "hide_input": false
   },
   "outputs": [],
   "source": [
    "!.\\yosys-win32-mxebin-0.7\\yosys.exe -p \"flatten; opt; freduce; write_verilog b19_T200_flattened.v\" -f verilog -q  b19_T200.v"
   ]
  },
  {
   "cell_type": "code",
   "execution_count": null,
   "metadata": {},
   "outputs": [],
   "source": [
    "!.\\yosys-win32-mxebin-0.7\\yosys.exe -p \"synth -top aes; flatten; write_verilog b19_T200_flattened.v\" -f verilog -q  b19_T200.v"
   ]
  },
  {
   "cell_type": "code",
   "execution_count": null,
   "metadata": {
    "hide_input": false
   },
   "outputs": [],
   "source": [
    "!.\\yosys-win32-mxebin-0.7\\yosys.exe -p \"flatten; opt; freduce; write_verilog AES_T2200_flattened.v\" -f verilog -q  aes_T2200.v "
   ]
  },
  {
   "cell_type": "markdown",
   "metadata": {},
   "source": [
    "remove all lines like:\n",
    "(* top =  1  *)\n",
    "(* src = \"AEST100\\\\top.v:21\" *)"
   ]
  },
  {
   "cell_type": "code",
   "execution_count": null,
   "metadata": {
    "ExecuteTime": {
     "end_time": "2021-01-08T07:45:04.326058Z",
     "start_time": "2021-01-08T07:39:24.171517Z"
    },
    "run_control": {
     "marked": true
    }
   },
   "outputs": [],
   "source": [
    "fnames=['AEST100\\AEST100','AEST200\\AEST200','AEST400\\AEST400','AEST700\\AEST700','AEST800\\AEST800','AEST900\\AEST900','AEST1000\\AEST1000','AEST1100\\AEST1100']\n",
    "import fileinput\n",
    "import re\n",
    "for fname in fnames:\n",
    "#     remove all lines like: (* top =  1  *) , (* src = \"AEST100\\\\top.v:21\" *)\n",
    "    for line in fileinput.input(fname+'_flattened.v', inplace = True):\n",
    "       if not re.search(r'  .*src = .*',line) or not re.search(r'.* src = .*',line):\n",
    "          print (line,)\n",
    "#     remove all assign { }= { }\n",
    "    for line in fileinput.input(fname+'_flattened.v', inplace = True):\n",
    "       if not re.search(r'  .* {  } = {  }.*',line):\n",
    "          print (line,)\n",
    "#     convert multi-line instructions to single line \n",
    "    open(fname+'_flattened_p1.v','w').write(re.sub('\\n\\s*\\n','\\n',open(fname+'_flattened.v').read()))\n",
    "    open(fname+'_flattened_p2.v','w').write(re.sub('\\n\\s*\\.','\\.',open(fname+'_flattened_p1.v').read()))\n",
    "    open(fname+'_flattened_p3.v','w').write(re.sub('\\n\\s*\\)',')',open(fname+'_flattened_p2.v').read()))\n",
    "    open(fname+'_flattened_p4.v','w').write(re.sub(r'\\\\','',open(fname+'_flattened_p3.v').read()))\n"
   ]
  },
  {
   "cell_type": "code",
   "execution_count": null,
   "metadata": {
    "ExecuteTime": {
     "end_time": "2021-01-07T22:18:28.335624Z",
     "start_time": "2021-01-07T22:17:32.287408Z"
    },
    "hide_input": true
   },
   "outputs": [],
   "source": [
    "import re\n",
    "import fileinput\n",
    "\n",
    "fnames=['AEST800\\AEST800']\n",
    "for fname in fnames:\n",
    "#     remove all lines like: (* top =  1  *) , (* src = \"AEST100\\\\top.v:21\" *)\n",
    "    lines=fileinput.input(fname+'_flattened.v', inplace = True)\n",
    "    for line in lines:\n",
    "        if line.strip().startswith('wire'):\n",
    "            w=line.strip().split()[1].split(';')[0].strip()\n",
    "            if open(fname+'_flattened.v', 'r').read().count(w)>1:\n",
    "                print(line,)\n",
    "        else:\n",
    "            print(line,)\n",
    "            \n"
   ]
  },
  {
   "cell_type": "code",
   "execution_count": null,
   "metadata": {
    "ExecuteTime": {
     "end_time": "2021-01-07T22:15:36.112466Z",
     "start_time": "2021-01-07T22:15:35.620155Z"
    }
   },
   "outputs": [],
   "source": [
    "open('AEST800\\AEST800_flattened.v', 'r').read().count('_180653_')"
   ]
  },
  {
   "cell_type": "code",
   "execution_count": null,
   "metadata": {
    "ExecuteTime": {
     "end_time": "2021-01-06T21:00:29.294091Z",
     "start_time": "2021-01-06T20:44:19.728Z"
    },
    "hide_input": true
   },
   "outputs": [],
   "source": [
    "import re\n",
    "import fileinput\n",
    "for line in fileinput.input(fname+'_flattened.v', inplace = True):\n",
    "   if not re.search(r'  .* {  } = {  }.*',line):\n",
    "      print (line,)"
   ]
  },
  {
   "cell_type": "code",
   "execution_count": null,
   "metadata": {
    "hide_input": true
   },
   "outputs": [],
   "source": [
    "import re\n",
    "open(fname+'_flattened_p1.v','w').write(re.sub('\\n\\s*\\n','\\n',open(fname+'_flattened.v').read()))\n",
    "open(fname+'_flattened_p2.v','w').write(re.sub('\\n\\s*\\.','\\.',open(fname+'_flattened_p1.v').read()))\n",
    "open(fname+'_flattened_p3.v','w').write(re.sub('\\n\\s*\\)',')',open(fname+'_flattened_p2.v').read()))\n",
    "open(fname+'_flattened_p4.v','w').write(re.sub(r'\\\\','',open(fname+'_flattened_p3.v').read()))\n"
   ]
  },
  {
   "cell_type": "markdown",
   "metadata": {},
   "source": [
    "# Gate class\n"
   ]
  },
  {
   "cell_type": "code",
   "execution_count": null,
   "metadata": {
    "ExecuteTime": {
     "end_time": "2021-01-08T08:47:57.217726Z",
     "start_time": "2021-01-08T08:47:57.172695Z"
    },
    "code_folding": [
     1,
     47,
     53,
     86,
     127,
     136
    ],
    "run_control": {
     "marked": true
    }
   },
   "outputs": [],
   "source": [
    "import re\n",
    "StdCells = [\n",
    "    \"INVX0\", \"INVX1\", \"INVX2\", \"INVX4\", \"INVX8\", \"INVX16\", \"INVX32\", \"IBUFFX2\",\n",
    "    \"IBUFFX4\", \"IBUFFX8\", \"IBUFFX16\", \"IBUFFX32\", \"NBUFFX2\", \"NBUFFX4\",\n",
    "    \"NBUFFX8\", \"NBUFFX16\", \"NBUFFX32\", \"TNBUFFX1\", \"TNBUFFX2\", \"TNBUFFX4\",\n",
    "    \"TNBUFFX8\", \"TNBUFFX16\", \"TNBUFFX32\", \"AND2X1\", \"AND2X2\", \"AND2X4\",\n",
    "    \"AND3X1\", \"AND3X2\", \"AND3X4\", \"AND4X1\", \"AND4X2\", \"AND4X4\", \"NAND2X0\",\n",
    "    \"NAND2X1\", \"NAND2X2\", \"NAND2X4\", \"NAND3X0\", \"NAND3X1\", \"NAND3X2\",\n",
    "    \"NAND3X4\", \"NAND4X0\", \"NAND4X1\", \"OR2X1\", \"OR2X2\", \"OR2X4\", \"OR3X1\",\n",
    "    \"OR3X2\", \"OR3X4\", \"OR4X1\", \"OR4X2\", \"OR4X4\", \"NOR2X0\", \"NOR2X1\", \"NOR2X2\",\n",
    "    \"NOR2X4\", \"NOR3X0\", \"NOR3X1\", \"NOR3X2\", \"NOR3X4\", \"NOR4X0\", \"NOR4X1\",\n",
    "    \"XOR2X1\", \"XOR2X2\", \"XOR3X1\", \"XOR3X2\", \"XNOR2X1\", \"XNOR2X2\", \"XNOR3X1\",\n",
    "    \"XNOR3X2\", \"AO21X1\", \"AO21X2\", \"AO22X1\", \"AO22X2\", \"AO221X1\", \"AO221X2\",\n",
    "    \"AO222X1\", \"AO222X2\", \"AOI21X1\", \"AOI21X2\", \"AOI22X1\", \"AOI22X2\",\n",
    "    \"AOI221X1\", \"AOI221X2\", \"AOI222X1\", \"AOI222X2\", \"OA21X1\", \"OA21X2\",\n",
    "    \"OA22X1\", \"OA22X2\", \"OA221X1\", \"OA221X2\", \"OA222X1\", \"OA222X2\", \"OAI21X1\",\n",
    "    \"OAI21X2\", \"OAI22X1\", \"OAI22X2\", \"OAI221X1\", \"OAI221X2\", \"OAI222X1\",\n",
    "    \"OAI222X2\", \"MUX21X1\", \"MUX21X2\", \"MUX41X1\", \"MUX41X2\", \"DEC24X1\",\n",
    "    \"DEC24X2\", \"HADDX1\", \"HADDX2\", \"FADDX1\", \"FADDX2\", \"DFFPOSX1\", \"DFFX1\",\n",
    "    \"DFFX2\", \"DFFASX1\", \"DFFASX2\", \"DFFARX1\", \"DFFARX2\", \"DFFASRX1\",\n",
    "    \"DFFASRX2\", \"DFFSSRX1\", \"DFFSSRX2\", \"DFFNX1\", \"DFFNX2\", \"DFFNASX1\",\n",
    "    \"DFFNASX2\", \"DFFNARX1\", \"DFFNARX2\", \"DFFNASRX1\", \"DFFNASRX2\", \"DFFNASRQX1\",\n",
    "    \"DFFNASRQX2\", \"DFFNASRNX1\", \"DFFNASRNX2\", \"SDFFX1\", \"SDFFX2\", \"SDFFASX1\",\n",
    "    \"SDFFASX2\", \"SDFFARX1\", \"SDFFARX2\", \"SDFFASRX1\", \"SDFFASRX2\", \"SDFFASRSX1\",\n",
    "    \"SDFFASRSX2\", \"SDFFSSRX1\", \"SDFFSSRX2\", \"SDFFNX1\", \"SDFFNX2\", \"SDFFNASX1\",\n",
    "    \"SDFFNASX2\", \"SDFFNARX1\", \"SDFFNARX2\", \"SDFFNASRX1\", \"SDFFNASRX2\",\n",
    "    \"LNANDX1\", \"LNANDX2\", \"LATCHX1\", \"LATCHX2\", \"LASX1\", \"LASX2\", \"LARX1\",\n",
    "    \"LARX2\", \"LASRX1\", \"LASRX2\", \"LASRQX1\", \"LASRQX2\", \"LASRNX1\", \"LASRNX2\",\n",
    "    \"CGLPPSX2\", \"CGLPPSX4\", \"CGLPPSX8\", \"CGLPPSX16\", \"CGLNPSX2\", \"CGLNPSX4\",\n",
    "    \"CGLNPSX8\", \"CGLNPSX16\", \"CGLPPRX2\", \"CGLPPRX8\", \"CGLNPRX2\", \"CGLNPRX8\",\n",
    "    \"DELLN1X2\", \"DELLN2X2\", \"DELLN3X2\", \"PGX1\", \"PGX2\", \"PGX4\", \"BSLEX1\",\n",
    "    \"BSLEX2\", \"BSLEX4\", \"ISOLANDX1\", \"ISOLANDX2\", \"ISOLANDX4\", \"ISOLANDX8\",\n",
    "    \"ISOLORX1\", \"ISOLORX2\", \"ISOLORX4\", \"ISOLORX8\", \"LSUPX1\", \"LSUPX2\",\n",
    "    \"LSUPX4\", \"LSUPX8\", \"LSDNX1\", \"LSDNX2\", \"LSDNX4\", \"LSDNX8\", \"LSUPENX1\",\n",
    "    \"LSUPENX2\", \"LSUPENX4\", \"LSUPENX8\", \"LSDNENX1\", \"LSDNENX2\", \"LSDNENX4\",\n",
    "    \"LSDNENX8\", \"RDFFX1\", \"RDFFX2\", \"RSDFFX1\", \"RSDFFX2\", \"RDFFNX1\", \"RDFFNX2\",\n",
    "    \"RSDFFNX1\", \"RSDFFNX2\", \"HEADX2\", \"HEADX4\", \"HEADX8\", \"HEADX16\", \"HEADX32\",\n",
    "    \"AOINVX1\", \"AOINVX2\", \"AOINVX4\", \"AOBUFX1\", \"AOBUFX2\", \"AOBUFX4\",\n",
    "    \"AODFFARX1\", \"AODFFARX2\", \"AODFFNARX1\", \"AODFFNARX2\", \"BUSKP\", \"PMT1\",\n",
    "    \"PMT2\", \"PMT3\", \"NMT1\", \"NMT2\", \"NMT3\", \"TIEH\", \"TIEL\", \"ANTENNA\", \"DCAP\",\n",
    "    \"CLOAD1\", \"SHFILL2\", \"DHFILLHLH2\", \"DHFILLLHL2\", \"DHFILLHLHLS11\"\n",
    "    \"AND2X1\", \"AND2X2\", \"AOI21X1\", \"AOI22X1\", \"BUFX2\", \"BUFX4\", \"CLKBUF1\",\n",
    "    \"CLKBUF2\", \"CLKBUF3\", \"DFFNEGX1\", \"DFFPOSX1\", \"DFFSR\", \"FAX1\", \"HAX1\",\n",
    "    \"INVX1\", \"INVX2\", \"INVX4\", \"INVX8\", \"LATCH\", \"MUX2X1\", \"MUX2X1\", \"NAND2X1\",\n",
    "    \"NAND3X1\", \"NOR2X1\", \"NOR3X1\", \"OAI21X1\", \"OAI22X1\", \"OR2X1\", \"OR2X2\",\n",
    "    \"PADINC\", \"PADINOUT\", \"PADOUT\", \"TBUFX1\", \"TBUFX2\", \"XNOR2X1\", \"XOR2X1\"]\n",
    "class Gate:\n",
    "    def __init__(self, name, gtype, inputs, outputs, CellLoad):\n",
    "        self.name = name\n",
    "        self.gtype = gtype\n",
    "        self.inputs = inputs\n",
    "        self.outputs = outputs\n",
    "        self.CellLoad = CellLoad\n",
    "def unpackArray(s):\n",
    "    import re\n",
    "    lst = []\n",
    "    pattern = \"\\[(.*?)\\]\"\n",
    "    ss = re.search(pattern, s)\n",
    "    #print(ss)\n",
    "    if ss:\n",
    "        l = ss.group(1).split(':')\n",
    "        #print(l[0])\n",
    "        if len(l) > 1:\n",
    "            left = int(l[0])\n",
    "            right = int(l[1])\n",
    "            if left > right:\n",
    "                for i in range(left, right - 1, -1):\n",
    "                    lst.append(s.strip().split('[')[0].strip() + \"_\" +\n",
    "                               str(i).strip())\n",
    "            else:\n",
    "                for i in range(left, right + 1, 1):\n",
    "                    lst.append(s.strip().split('[')[0].strip() + \"_\" +\n",
    "                               str(i).strip())\n",
    "        else:\n",
    "            lst.append(s.strip().split('[')[0].strip() + \"_\" +\n",
    "                       str(l[0]).strip())\n",
    "    else:\n",
    "        #m = re.search(r'_\\d+$', s)\n",
    "        # print(s)\n",
    "        #if m is not None:\n",
    "        for w in m_wires:\n",
    "            #print(w.rsplit('_',1)[0])\n",
    "            if w.rsplit('_', 1)[0] == s or w == s:\n",
    "                lst.append(w)\n",
    "        #lst.append(s)\n",
    "    return lst\n",
    "def procAssigns(line):\n",
    "    gtype = \"assign\"\n",
    "    gcellload = 0\n",
    "    inps = []\n",
    "    outs = []\n",
    "    pattern = \"\\{(.*?)\\}\"\n",
    "    left = []\n",
    "    right = []\n",
    "    inps = []\n",
    "    outs = []\n",
    "    if re.search(\n",
    "            pattern,\n",
    "            line.split('=')\n",
    "        [0].strip()):  # Checks if the left side is in {a,b,...} format.\n",
    "        s = re.search(pattern, line.split('=')[0].strip())\n",
    "        for ss in s.group(1).split(','):\n",
    "            left += unpackArray(ss)\n",
    "    else:\n",
    "        left += unpackArray(line.split('=')[0].strip().split(' ', 1)[1])\n",
    "    if re.search(\n",
    "            pattern,\n",
    "            line.split('=')\n",
    "        [1].strip()):  # Checks if the right side is in {a,b,...} format.\n",
    "        s = re.search(pattern, line.split('=')[1].strip())\n",
    "        for ss in s.group(1).split(','):\n",
    "            right += unpackArray(ss.split(';')[0])\n",
    "    else:\n",
    "        right += unpackArray(line.split('=')[1].strip().split(';')[0])\n",
    "    if len(right) > len(left):\n",
    "        inps += right\n",
    "        for k in range(len(right) - 1, -1, -1):\n",
    "            outs.append(left[0].strip() + \"_\" + str(k))\n",
    "    if len(right) < len(left):\n",
    "        outs += left\n",
    "        for k in range(len(left) - 1, -1, -1):\n",
    "            inps.append(right[0].strip() + \"_\" + str(k))\n",
    "    if len(right) == len(left):\n",
    "        inps += right\n",
    "        outs += left\n",
    "    g = Gate(\"gname\", gtype, inps, outs, gcellload)\n",
    "    return g\n",
    "def extractGateInfo(line):\n",
    "    cellname = line.strip().split()[0].strip()\n",
    "    gname = \"\"\n",
    "    gtype = \"\"\n",
    "    g = Gate(\"\", \"\", [], [], 0)\n",
    "    if cellname in StdCells:  # [\"INVX0\",\"INVX1\",\"INVX2\",\"INVX4\",\"INVX8\",\"INVX16\",\"INVX32\",\"IBUFFX2\",\"IBUFFX4\",\"IBUFFX8\",\"IBUFFX16\",\"IBUFFX32\",\"NBUFFX2\",\"NBUFFX4\",\"NBUFFX8\",\"NBUFFX16\",\"NBUFFX32\"]:\n",
    "        gtype = cellname\n",
    "        gname = line.strip().split()[1]\n",
    "        X = int(cellname[len(cellname) - 1:len(cellname)])\n",
    "        if X == 0:\n",
    "            X = 0.5\n",
    "        gcellload = X\n",
    "        inps = []\n",
    "        outs = []\n",
    "        s = line[line.find(\"(\") + 1:line.rfind(\")\")].split(',')\n",
    "        for i in range(len(s)):\n",
    "            if s[i].strip().split('(')[0] in [\n",
    "                    \".Y\", \".YPAD\", \".DI\", \".YS\", \".QN\", \".ZN\", \".Q\", \".Q3\",\n",
    "                    \".Q2\", \".Q1\", \".Q0\", \".SO\", \".C1\", \".CO\", \".S\"\n",
    "            ] and not line.strip().startswith(\n",
    "                    'MUX'\n",
    "            ):  #re.search('^\\.Q',s[i].strip())|re.search('^\\.QN',s[i].strip())|re.search('^\\.ZN',s[i].strip())|re.search('^\\.S',s[i].strip())|re.search('^\\.CLK',s[i].strip())|re.search('^\\.I',s[i].strip())|re.search('^\\.I',s[i].strip())|re.search('^\\.I',s[i].strip()):\n",
    "                strpar = s[i][s[i].find(\"(\") + 1:s[i].rfind(\")\")].strip()\n",
    "                outs += unpackArray(\n",
    "                    strpar\n",
    "                )  #.append(s[i][s[i].find(\"(\")+1:s[i].rfind(\")\")].strip())\n",
    "            else:\n",
    "                inps += unpackArray(s[i][s[i].find(\"(\") +\n",
    "                                         1:s[i].rfind(\")\")].strip())\n",
    "        g = Gate(gname, gtype, inps, outs, gcellload)\n",
    "    if cellname.strip() == \"assign\":\n",
    "        g = procAssigns(line)\n",
    "\n",
    "    return g\n",
    "print(unpackArray(\"AES.r1.t3.t2.out [23]\"))"
   ]
  },
  {
   "cell_type": "markdown",
   "metadata": {},
   "source": [
    "# read bencmarks"
   ]
  },
  {
   "cell_type": "code",
   "execution_count": null,
   "metadata": {
    "ExecuteTime": {
     "end_time": "2021-01-08T07:45:04.875784Z",
     "start_time": "2021-01-08T07:45:04.408246Z"
    },
    "code_folding": [
     2,
     10,
     47,
     81,
     118,
     126,
     185,
     204
    ],
    "run_control": {
     "marked": true
    }
   },
   "outputs": [],
   "source": [
    "import re\n",
    "\n",
    "class Gate:\n",
    "    def __init__(self, name, gtype, inputs, outputs, CellLoad):\n",
    "        self.name = name\n",
    "        self.gtype = gtype\n",
    "        self.inputs = inputs\n",
    "        self.outputs = outputs\n",
    "        self.CellLoad = CellLoad\n",
    "\n",
    "def unpackArray(s):\n",
    "    import re\n",
    "    lst = []\n",
    "    pattern = \"\\[(.*?)\\]\"\n",
    "    ss = re.search(pattern, s)\n",
    "    # print(ss)\n",
    "    if ss:\n",
    "        l = ss.group(1).split(':')\n",
    "        #print(l[0])\n",
    "        if len(l) > 1:\n",
    "            left = int(l[0])\n",
    "            right = int(l[1])\n",
    "            if left > right:\n",
    "                for i in range(left, right - 1, -1):\n",
    "                    lst.append(s.strip().split('[')[0].strip() + \"_\" +\n",
    "                               str(i).strip())\n",
    "            else:\n",
    "                for i in range(left, right + 1, 1):\n",
    "                    lst.append(s.strip().split('[')[0].strip() + \"_\" +\n",
    "                               str(i).strip())\n",
    "        else:\n",
    "            lst.append(s.strip().split('[')[0].strip() + \"_\" +\n",
    "                       str(l[0]).strip())\n",
    "    else:\n",
    "        if s.strip() in m_wires2:\n",
    "            for i in range(m_wires2[s.strip()]):\n",
    "                #print(s)\n",
    "                lst.append(s.strip() + '_' + str(m_wires2[s.strip()] - 1 - i))\n",
    "        else:\n",
    "            lst.append(s.strip())\n",
    "\n",
    "\n",
    "#         for w in m_wires:\n",
    "#             if w.rsplit('_',1)[0]==s or w==s:\n",
    "#                 lst.append(w)\n",
    "    return lst\n",
    "\n",
    "def parse_wires(lines):\n",
    "    m_wires = []\n",
    "    allwires = {}\n",
    "    for line in lines:\n",
    "        if \"wire\" in line.lower() or \"input\" in line.lower(\n",
    "        ) or \"output\" in line.lower():\n",
    "            #print(line)\n",
    "            if line.find('[') >= 0:\n",
    "                s3 = line.strip().split()\n",
    "                s = s3[1][1:len(s3[1])].split(':')[0]\n",
    "                e = s3[1][1:len(s3[1])].split(':')[1].split(']')[0]\n",
    "                sname = line.strip().split(\n",
    "                    ']')[1][0:len(line.strip().split(']')[1]) - 1]\n",
    "                for i in range(int(e), int(s) + 1):\n",
    "                    m_wires.append(sname.strip() + '_' + str(i))\n",
    "#                     print(sname.strip())\n",
    "                    if 'Trojan' in sname.strip(\n",
    "                    ) or 'TSC' in sname.strip() or 'Tj_Trigger' in sname.strip(\n",
    "                    ) or 'Trigger' in sname.strip():  # + '_' + str(i)\n",
    "                        allwires[sname.strip() + '_' + str(i)] = 0\n",
    "                    else:\n",
    "                        allwires[sname.strip() + '_' + str(i)] = 1\n",
    "            else:\n",
    "                s = line.strip().split()[1][0:len(line.strip().split()[1])]\n",
    "                m_wires.append(s.strip().split(\n",
    "                    ';')[0])  #+=line.split()[1][0:len(line.split()[1])-1]\n",
    "                if 'Trojan' in s:\n",
    "                    allwires[s.split(';')[0]] = 0\n",
    "                else:\n",
    "                    allwires[s.split(';')[0]] = 1\n",
    "            continue\n",
    "    return [m_wires, allwires]\n",
    "\n",
    "#[m_wires,allwires]=parse_wires(lines)\n",
    "def procAssigns(line):\n",
    "    gtype = \"assign\"\n",
    "    gcellload = 0\n",
    "    inps = []\n",
    "    outs = []\n",
    "    pattern = \"\\{(.*?)\\}\"\n",
    "    left = []\n",
    "    right = []\n",
    "    inps = []\n",
    "    outs = []\n",
    "    if re.search(\n",
    "            pattern,\n",
    "            line.split('=')\n",
    "        [0].strip()):  # Checks if the left side is in {a,b,...} format.\n",
    "        s = re.search(pattern, line.split('=')[0].strip())\n",
    "        for ss in s.group(1).split(','):\n",
    "            left += unpackArray(ss)\n",
    "    else:\n",
    "        left += unpackArray(line.split('=')[0].strip().split(' ', 1)[1])\n",
    "        #print(left)\n",
    "    if re.search(\n",
    "            pattern,\n",
    "            line.split('=')\n",
    "        [1].strip()):  # Checks if the right side is in {a,b,...} format.\n",
    "        s = re.search(pattern, line.split('=')[1].strip())\n",
    "        for ss in s.group(1).split(','):\n",
    "            right += unpackArray(ss.split(';')[0])\n",
    "    else:\n",
    "        right += unpackArray(line.split('=')[1].strip().split(';')[0])\n",
    "    inps += right\n",
    "    outs += left\n",
    "    g = []\n",
    "    #print(inps,outs)\n",
    "    for i in range(len(inps)):\n",
    "        g += [Gate(\"\", gtype, [inps[i]], [outs[i]], gcellload)]\n",
    "    return g\n",
    "\n",
    "def parse_asignments(lines):\n",
    "    g = []\n",
    "    for line in lines:\n",
    "        if 'assign' in line.lower():\n",
    "            #             print(line)\n",
    "            g += procAssigns(line)\n",
    "    return g\n",
    "\n",
    "def parse_gates(lines):\n",
    "    m_gates = []\n",
    "    for line in lines:\n",
    "        if line != None:\n",
    "            #print('-->',line)\n",
    "            cellname = line.strip().split()[0].strip()\n",
    "            gname = \"\"\n",
    "            gtype = \"\"\n",
    "            g = Gate(\"\", \"\", [], [], 0)\n",
    "            if cellname in StdCells:  # [\"INVX0\",\"INVX1\",\"INVX2\",\"INVX4\",\"INVX8\",\"INVX16\",\"INVX32\",\"IBUFFX2\",\"IBUFFX4\",\"IBUFFX8\",\"IBUFFX16\",\"IBUFFX32\",\"NBUFFX2\",\"NBUFFX4\",\"NBUFFX8\",\"NBUFFX16\",\"NBUFFX32\"]:\n",
    "                #             print('+++>', line)\n",
    "                gtype = cellname\n",
    "                gname = line.strip().split()[1]\n",
    "#                 print(cellname)\n",
    "#                 print(cellname[len(cellname) - 1:len(cellname)])\n",
    "                Xstr=cellname[len(cellname) - 1:len(cellname)]\n",
    "                gcellload=0\n",
    "                if Xstr.isnumeric():\n",
    "                    X=int(Xstr)\n",
    "                    X = int()\n",
    "\n",
    "                    if X == 0:\n",
    "                        X = 0.5\n",
    "                    gcellload = X\n",
    "                inps = []\n",
    "                outs = []\n",
    "                s = line[line.find(\"(\") + 1:line.rfind(\")\")].split(',')\n",
    "                for i in range(len(s)):\n",
    "                    if line.strip().startswith('MUX'):\n",
    "                        if s[i].startswith('.Y'):\n",
    "                            strpar = s[i][s[i].find(\"(\") +\n",
    "                                          1:s[i].rfind(\")\")].strip()\n",
    "                            outs += unpackArray(strpar)\n",
    "                        else:\n",
    "                            inps += unpackArray(\n",
    "                                s[i][s[i].find(\"(\") +\n",
    "                                     1:s[i].rfind(\")\")].strip())\n",
    "                    else:\n",
    "                        if s[i].strip().split('(')[0] in [\n",
    "                                \".Y\", \".YPAD\", \".DI\", \".YS\", \".QN\", \".ZN\",\n",
    "                                \".Q\", \".Q3\", \".Q2\", \".Q1\", \".Q0\", \".SO\", \".C1\",\n",
    "                                \".CO\", \".S\"\n",
    "                        ]:\n",
    "                            #re.search('^\\.Q',s[i].strip())|re.search('^\\.QN',s[i].strip())|re.search('^\\.ZN',s[i].strip())|re.search('^\\.S',s[i].strip())|re.search('^\\.CLK',s[i].strip())|re.search('^\\.I',s[i].strip())|re.search('^\\.I',s[i].strip())|re.search('^\\.I',s[i].strip()):\n",
    "                            strpar = s[i][s[i].find(\"(\") +\n",
    "                                          1:s[i].rfind(\")\")].strip()\n",
    "                            outs += unpackArray(\n",
    "                                strpar\n",
    "                            )  #.append(s[i][s[i].find(\"(\")+1:s[i].rfind(\")\")].strip())\n",
    "                        else:\n",
    "                            #                             print(line,s[i][s[i].find(\"(\") + 1:s[i].rfind(\")\")].strip())\n",
    "                            inps += unpackArray(\n",
    "                                s[i][s[i].find(\"(\") +\n",
    "                                     1:s[i].rfind(\")\")].strip())\n",
    "\n",
    "                #print(gname,gtype,inps,outs)\n",
    "                m_gates.append(Gate(gname, gtype, inps, outs, gcellload))\n",
    "    return (m_gates)\n",
    "\n",
    "def parse_primary_inputes(lines):\n",
    "    m_inps = []\n",
    "    for line in lines:\n",
    "        if \"input\" in line.lower():\n",
    "            if line.find('[') >= 0:\n",
    "                s3 = line.strip().split()\n",
    "                s = s3[1][1:len(s3[1])].split(':')[0]\n",
    "                e = s3[1][1:len(s3[1])].split(':')[1].split(']')[0]\n",
    "                sname = line.strip().split(\n",
    "                    ']')[1][0:len(line.strip().split(']')[1]) - 1]\n",
    "                for i in range(int(e), int(s) + 1):\n",
    "                    m_inps.append(sname + '_' + str(i))\n",
    "\n",
    "            else:\n",
    "                s = line.split()[1][0:len(line.split()[1]) - 1]\n",
    "                m_inps.append(s)  #+=line.split()[1][0:len(line.split()[1])-1]\n",
    "            continue\n",
    "    return m_inps\n",
    "\n",
    "def parse_primary_outputs(lines):\n",
    "    m_outs = []\n",
    "    for line in lines:\n",
    "        if \"output\" in line.lower():\n",
    "            if line.find('[') >= 0:\n",
    "                s3 = line.strip().split()\n",
    "                s = s3[1][1:len(s3[1])].split(':')[0]\n",
    "                e = s3[1][1:len(s3[1])].split(':')[1].split(']')[0]\n",
    "                sname = line.strip().split(\n",
    "                    ']')[1][0:len(line.strip().split(']')[1]) - 1]\n",
    "                for i in range(int(e), int(s) + 1):\n",
    "                    m_outs.append(sname + '_' + str(i))\n",
    "\n",
    "            else:\n",
    "                s = line.split()[1][0:len(line.split()[1]) - 1]\n",
    "                m_outs.append(s)  #+=line.split()[1][0:len(line.split()[1])-1]\n",
    "            continue\n",
    "    return m_outs\n"
   ]
  },
  {
   "cell_type": "code",
   "execution_count": null,
   "metadata": {
    "ExecuteTime": {
     "end_time": "2021-01-08T07:46:20.100893Z",
     "start_time": "2021-01-08T07:45:04.884647Z"
    },
    "code_folding": [
     1
    ],
    "scrolled": true
   },
   "outputs": [],
   "source": [
    "\n",
    "StdCells = [\n",
    "    \"INVX0\", \"INVX1\", \"INVX2\", \"INVX4\", \"INVX8\", \"INVX16\", \"INVX32\", \"IBUFFX2\",\n",
    "    \"IBUFFX4\", \"IBUFFX8\", \"IBUFFX16\", \"IBUFFX32\", \"NBUFFX2\", \"NBUFFX4\",\n",
    "    \"NBUFFX8\", \"NBUFFX16\", \"NBUFFX32\", \"TNBUFFX1\", \"TNBUFFX2\", \"TNBUFFX4\",\n",
    "    \"TNBUFFX8\", \"TNBUFFX16\", \"TNBUFFX32\", \"AND2X1\", \"AND2X2\", \"AND2X4\",\n",
    "    \"AND3X1\", \"AND3X2\", \"AND3X4\", \"AND4X1\", \"AND4X2\", \"AND4X4\", \"NAND2X0\",\n",
    "    \"NAND2X1\", \"NAND2X2\", \"NAND2X4\", \"NAND3X0\", \"NAND3X1\", \"NAND3X2\",\n",
    "    \"NAND3X4\", \"NAND4X0\", \"NAND4X1\", \"OR2X1\", \"OR2X2\", \"OR2X4\", \"OR3X1\",\n",
    "    \"OR3X2\", \"OR3X4\", \"OR4X1\", \"OR4X2\", \"OR4X4\", \"NOR2X0\", \"NOR2X1\", \"NOR2X2\",\n",
    "    \"NOR2X4\", \"NOR3X0\", \"NOR3X1\", \"NOR3X2\", \"NOR3X4\", \"NOR4X0\", \"NOR4X1\",\n",
    "    \"XOR2X1\", \"XOR2X2\", \"XOR3X1\", \"XOR3X2\", \"XNOR2X1\", \"XNOR2X2\", \"XNOR3X1\",\n",
    "    \"XNOR3X2\", \"AO21X1\", \"AO21X2\", \"AO22X1\", \"AO22X2\", \"AO221X1\", \"AO221X2\",\n",
    "    \"AO222X1\", \"AO222X2\", \"AOI21X1\", \"AOI21X2\", \"AOI22X1\", \"AOI22X2\",\n",
    "    \"AOI221X1\", \"AOI221X2\", \"AOI222X1\", \"AOI222X2\", \"OA21X1\", \"OA21X2\",\n",
    "    \"OA22X1\", \"OA22X2\", \"OA221X1\", \"OA221X2\", \"OA222X1\", \"OA222X2\", \"OAI21X1\",\n",
    "    \"OAI21X2\", \"OAI22X1\", \"OAI22X2\", \"OAI221X1\", \"OAI221X2\", \"OAI222X1\",\n",
    "    \"OAI222X2\", \"MUX21X1\", \"MUX21X2\", \"MUX41X1\", \"MUX41X2\", \"DEC24X1\",\n",
    "    \"DEC24X2\", \"HADDX1\", \"HADDX2\", \"FADDX1\", \"FADDX2\", \"DFFPOSX1\", \"DFFX1\",\n",
    "    \"DFFX2\", \"DFFASX1\", \"DFFASX2\", \"DFFARX1\", \"DFFARX2\", \"DFFASRX1\",\n",
    "    \"DFFASRX2\", \"DFFSSRX1\", \"DFFSSRX2\", \"DFFNX1\", \"DFFNX2\", \"DFFNASX1\",\n",
    "    \"DFFNASX2\", \"DFFNARX1\", \"DFFNARX2\", \"DFFNASRX1\", \"DFFNASRX2\", \"DFFNASRQX1\",\n",
    "    \"DFFNASRQX2\", \"DFFNASRNX1\", \"DFFNASRNX2\", \"SDFFX1\", \"SDFFX2\", \"SDFFASX1\",\n",
    "    \"SDFFASX2\", \"SDFFARX1\", \"SDFFARX2\", \"SDFFASRX1\", \"SDFFASRX2\", \"SDFFASRSX1\",\n",
    "    \"SDFFASRSX2\", \"SDFFSSRX1\", \"SDFFSSRX2\", \"SDFFNX1\", \"SDFFNX2\", \"SDFFNASX1\",\n",
    "    \"SDFFNASX2\", \"SDFFNARX1\", \"SDFFNARX2\", \"SDFFNASRX1\", \"SDFFNASRX2\",\n",
    "    \"LNANDX1\", \"LNANDX2\", \"LATCHX1\", \"LATCHX2\", \"LASX1\", \"LASX2\", \"LARX1\",\n",
    "    \"LARX2\", \"LASRX1\", \"LASRX2\", \"LASRQX1\", \"LASRQX2\", \"LASRNX1\", \"LASRNX2\",\n",
    "    \"CGLPPSX2\", \"CGLPPSX4\", \"CGLPPSX8\", \"CGLPPSX16\", \"CGLNPSX2\", \"CGLNPSX4\",\n",
    "    \"CGLNPSX8\", \"CGLNPSX16\", \"CGLPPRX2\", \"CGLPPRX8\", \"CGLNPRX2\", \"CGLNPRX8\",\n",
    "    \"DELLN1X2\", \"DELLN2X2\", \"DELLN3X2\", \"PGX1\", \"PGX2\", \"PGX4\", \"BSLEX1\",\n",
    "    \"BSLEX2\", \"BSLEX4\", \"ISOLANDX1\", \"ISOLANDX2\", \"ISOLANDX4\", \"ISOLANDX8\",\n",
    "    \"ISOLORX1\", \"ISOLORX2\", \"ISOLORX4\", \"ISOLORX8\", \"LSUPX1\", \"LSUPX2\",\n",
    "    \"LSUPX4\", \"LSUPX8\", \"LSDNX1\", \"LSDNX2\", \"LSDNX4\", \"LSDNX8\", \"LSUPENX1\",\n",
    "    \"LSUPENX2\", \"LSUPENX4\", \"LSUPENX8\", \"LSDNENX1\", \"LSDNENX2\", \"LSDNENX4\",\n",
    "    \"LSDNENX8\", \"RDFFX1\", \"RDFFX2\", \"RSDFFX1\", \"RSDFFX2\", \"RDFFNX1\", \"RDFFNX2\",\n",
    "    \"RSDFFNX1\", \"RSDFFNX2\", \"HEADX2\", \"HEADX4\", \"HEADX8\", \"HEADX16\", \"HEADX32\",\n",
    "    \"AOINVX1\", \"AOINVX2\", \"AOINVX4\", \"AOBUFX1\", \"AOBUFX2\", \"AOBUFX4\",\n",
    "    \"AODFFARX1\", \"AODFFARX2\", \"AODFFNARX1\", \"AODFFNARX2\", \"BUSKP\", \"PMT1\",\n",
    "    \"PMT2\", \"PMT3\", \"NMT1\", \"NMT2\", \"NMT3\", \"TIEH\", \"TIEL\", \"ANTENNA\", \"DCAP\",\n",
    "    \"CLOAD1\", \"SHFILL2\", \"DHFILLHLH2\", \"DHFILLLHL2\", \"DHFILLHLHLS11\"\n",
    "    \"AND2X1\", \"AND2X2\", \"AOI21X1\", \"AOI22X1\", \"BUFX2\", \"BUFX4\", \"CLKBUF1\",\n",
    "    \"CLKBUF2\", \"CLKBUF3\", \"DFFNEGX1\", \"DFFPOSX1\", \"DFFSR\", \"FAX1\", \"HAX1\",\n",
    "    \"INVX1\", \"INVX2\", \"INVX4\", \"INVX8\", \"LATCH\", \"MUX2X1\", \"MUX2X1\", \"NAND2X1\",\n",
    "    \"NAND3X1\", \"NOR2X1\", \"NOR3X1\", \"OAI21X1\", \"OAI22X1\", \"OR2X1\", \"OR2X2\",\n",
    "    \"PADINC\", \"PADINOUT\", \"PADOUT\", \"TBUFX1\", \"TBUFX2\", \"XNOR2X1\", \"XOR2X1\"]\n",
    "allwires = {}\n",
    "\n",
    "# fname = \"AEST100\\AEST100\"#'AES_T2200'  _flattened_p4\n",
    "alldata = {}\n",
    "for fname in fnames:\n",
    "    verilogfile = fname + '_flattened_p4.v'\n",
    "\n",
    "    m_inps = []\n",
    "    m_outs = []\n",
    "    m_wires = []\n",
    "    m_gates = []\n",
    "    m_gates_dic = {}\n",
    "    vf = open(verilogfile, 'r')\n",
    "    [m_wires, allwires] = parse_wires(vf)\n",
    "    m_wires2 = {}\n",
    "    for w in m_wires:\n",
    "        s1 = w.split('_')[len(w.split('_')) - 1].split(';')[0].strip()\n",
    "        s2 = w.rsplit('_', 1)[0].strip()\n",
    "        #print('w=',w,s1,s2)\n",
    "        if s1.isnumeric():  #:and s2 not in m_wires2\n",
    "            if s2 in m_wires2:\n",
    "                m_wires2[s2] += 1  #.append(s2)\n",
    "            else:\n",
    "                m_wires2[s2] = 1\n",
    "    vf = open(verilogfile, 'r')\n",
    "    m_gates += parse_asignments(vf)\n",
    "    vf = open(verilogfile, 'r')\n",
    "    m_gates += parse_gates(vf)\n",
    "    from collections import defaultdict\n",
    "    mdic_gates = defaultdict(list)\n",
    "    for g in m_gates:\n",
    "        #print(g.gtype,g.inputs,g.outputs)\n",
    "        mdic_gates[g.outputs[0]] = g\n",
    "    #     for out in g.outputs:\n",
    "    #     mdic_gates[g.outputs[0]]=g\n",
    "    m_inps += parse_primary_inputes(vf)\n",
    "    alldata[fname] = [m_inps, m_outs, m_wires,allwires, m_gates, mdic_gates]\n",
    "    print(len(m_inps))\n",
    "    print(len(m_outs))\n",
    "    print(len(m_wires))\n",
    "    print(len(m_gates))\n",
    "    print(len(mdic_gates))"
   ]
  },
  {
   "cell_type": "code",
   "execution_count": null,
   "metadata": {
    "ExecuteTime": {
     "end_time": "2021-01-07T12:59:29.383041Z",
     "start_time": "2021-01-07T12:58:49.306628Z"
    }
   },
   "outputs": [],
   "source": [
    "!pip install objsize"
   ]
  },
  {
   "cell_type": "code",
   "execution_count": null,
   "metadata": {
    "ExecuteTime": {
     "end_time": "2021-01-08T07:47:11.788021Z",
     "start_time": "2021-01-08T07:46:25.611801Z"
    }
   },
   "outputs": [],
   "source": [
    "from pylab import *\n",
    "import sys\n",
    "print(len(alldata))\n",
    "print(sys.getsizeof(alldata))\n",
    "from objsize import get_deep_size\n",
    "get_deep_size(alldata)"
   ]
  },
  {
   "cell_type": "code",
   "execution_count": null,
   "metadata": {
    "ExecuteTime": {
     "end_time": "2021-01-08T07:47:54.172543Z",
     "start_time": "2021-01-08T07:47:34.506830Z"
    }
   },
   "outputs": [],
   "source": [
    "import pickle\n",
    "with open('AEST100_200_400_700_800_900_1000_1100.pickle', 'wb') as f:\n",
    "    pickle.dump(alldata, f)"
   ]
  },
  {
   "cell_type": "code",
   "execution_count": null,
   "metadata": {
    "ExecuteTime": {
     "end_time": "2021-01-08T08:48:33.983946Z",
     "start_time": "2021-01-08T08:48:06.367878Z"
    },
    "run_control": {
     "marked": true
    }
   },
   "outputs": [],
   "source": [
    "import pickle\n",
    "\n",
    "alldata= pickle.load( open( 'AEST100_200_400_700_800_900_1000_1100.pickle','rb'))\n"
   ]
  },
  {
   "cell_type": "code",
   "execution_count": null,
   "metadata": {
    "ExecuteTime": {
     "end_time": "2021-01-01T20:31:16.344295Z",
     "start_time": "2021-01-01T20:31:16.094271Z"
    },
    "hide_input": true,
    "scrolled": true
   },
   "outputs": [],
   "source": [
    "for w in m_wires:\n",
    "    if len(mdic_gates[w])>1:\n",
    "        print(mdic_gates[w])"
   ]
  },
  {
   "cell_type": "markdown",
   "metadata": {
    "heading_collapsed": true
   },
   "source": [
    "# old read benchmark"
   ]
  },
  {
   "cell_type": "code",
   "execution_count": null,
   "metadata": {
    "ExecuteTime": {
     "end_time": "2021-01-01T19:50:45.831504Z",
     "start_time": "2021-01-01T19:50:44.712491Z"
    },
    "code_folding": [
     4
    ],
    "hidden": true,
    "hide_input": true
   },
   "outputs": [],
   "source": [
    "allwires = {}\n",
    "\n",
    "fname ='AES_T2200'#_flattened_p4 \"AEST100\\AEST100\"\n",
    "import re\n",
    "StdCells = [\n",
    "    \"INVX0\", \"INVX1\", \"INVX2\", \"INVX4\", \"INVX8\", \"INVX16\", \"INVX32\", \"IBUFFX2\",\n",
    "    \"IBUFFX4\", \"IBUFFX8\", \"IBUFFX16\", \"IBUFFX32\", \"NBUFFX2\", \"NBUFFX4\",\n",
    "    \"NBUFFX8\", \"NBUFFX16\", \"NBUFFX32\", \"TNBUFFX1\", \"TNBUFFX2\", \"TNBUFFX4\",\n",
    "    \"TNBUFFX8\", \"TNBUFFX16\", \"TNBUFFX32\", \"AND2X1\", \"AND2X2\", \"AND2X4\",\n",
    "    \"AND3X1\", \"AND3X2\", \"AND3X4\", \"AND4X1\", \"AND4X2\", \"AND4X4\", \"NAND2X0\",\n",
    "    \"NAND2X1\", \"NAND2X2\", \"NAND2X4\", \"NAND3X0\", \"NAND3X1\", \"NAND3X2\",\n",
    "    \"NAND3X4\", \"NAND4X0\", \"NAND4X1\", \"OR2X1\", \"OR2X2\", \"OR2X4\", \"OR3X1\",\n",
    "    \"OR3X2\", \"OR3X4\", \"OR4X1\", \"OR4X2\", \"OR4X4\", \"NOR2X0\", \"NOR2X1\", \"NOR2X2\",\n",
    "    \"NOR2X4\", \"NOR3X0\", \"NOR3X1\", \"NOR3X2\", \"NOR3X4\", \"NOR4X0\", \"NOR4X1\",\n",
    "    \"XOR2X1\", \"XOR2X2\", \"XOR3X1\", \"XOR3X2\", \"XNOR2X1\", \"XNOR2X2\", \"XNOR3X1\",\n",
    "    \"XNOR3X2\", \"AO21X1\", \"AO21X2\", \"AO22X1\", \"AO22X2\", \"AO221X1\", \"AO221X2\",\n",
    "    \"AO222X1\", \"AO222X2\", \"AOI21X1\", \"AOI21X2\", \"AOI22X1\", \"AOI22X2\",\n",
    "    \"AOI221X1\", \"AOI221X2\", \"AOI222X1\", \"AOI222X2\", \"OA21X1\", \"OA21X2\",\n",
    "    \"OA22X1\", \"OA22X2\", \"OA221X1\", \"OA221X2\", \"OA222X1\", \"OA222X2\", \"OAI21X1\",\n",
    "    \"OAI21X2\", \"OAI22X1\", \"OAI22X2\", \"OAI221X1\", \"OAI221X2\", \"OAI222X1\",\n",
    "    \"OAI222X2\", \"MUX21X1\", \"MUX21X2\", \"MUX41X1\", \"MUX41X2\", \"DEC24X1\",\n",
    "    \"DEC24X2\", \"HADDX1\", \"HADDX2\", \"FADDX1\", \"FADDX2\", \"DFFPOSX1\", \"DFFX1\",\n",
    "    \"DFFX2\", \"DFFASX1\", \"DFFASX2\", \"DFFARX1\", \"DFFARX2\", \"DFFASRX1\",\n",
    "    \"DFFASRX2\", \"DFFSSRX1\", \"DFFSSRX2\", \"DFFNX1\", \"DFFNX2\", \"DFFNASX1\",\n",
    "    \"DFFNASX2\", \"DFFNARX1\", \"DFFNARX2\", \"DFFNASRX1\", \"DFFNASRX2\", \"DFFNASRQX1\",\n",
    "    \"DFFNASRQX2\", \"DFFNASRNX1\", \"DFFNASRNX2\", \"SDFFX1\", \"SDFFX2\", \"SDFFASX1\",\n",
    "    \"SDFFASX2\", \"SDFFARX1\", \"SDFFARX2\", \"SDFFASRX1\", \"SDFFASRX2\", \"SDFFASRSX1\",\n",
    "    \"SDFFASRSX2\", \"SDFFSSRX1\", \"SDFFSSRX2\", \"SDFFNX1\", \"SDFFNX2\", \"SDFFNASX1\",\n",
    "    \"SDFFNASX2\", \"SDFFNARX1\", \"SDFFNARX2\", \"SDFFNASRX1\", \"SDFFNASRX2\",\n",
    "    \"LNANDX1\", \"LNANDX2\", \"LATCHX1\", \"LATCHX2\", \"LASX1\", \"LASX2\", \"LARX1\",\n",
    "    \"LARX2\", \"LASRX1\", \"LASRX2\", \"LASRQX1\", \"LASRQX2\", \"LASRNX1\", \"LASRNX2\",\n",
    "    \"CGLPPSX2\", \"CGLPPSX4\", \"CGLPPSX8\", \"CGLPPSX16\", \"CGLNPSX2\", \"CGLNPSX4\",\n",
    "    \"CGLNPSX8\", \"CGLNPSX16\", \"CGLPPRX2\", \"CGLPPRX8\", \"CGLNPRX2\", \"CGLNPRX8\",\n",
    "    \"DELLN1X2\", \"DELLN2X2\", \"DELLN3X2\", \"PGX1\", \"PGX2\", \"PGX4\", \"BSLEX1\",\n",
    "    \"BSLEX2\", \"BSLEX4\", \"ISOLANDX1\", \"ISOLANDX2\", \"ISOLANDX4\", \"ISOLANDX8\",\n",
    "    \"ISOLORX1\", \"ISOLORX2\", \"ISOLORX4\", \"ISOLORX8\", \"LSUPX1\", \"LSUPX2\",\n",
    "    \"LSUPX4\", \"LSUPX8\", \"LSDNX1\", \"LSDNX2\", \"LSDNX4\", \"LSDNX8\", \"LSUPENX1\",\n",
    "    \"LSUPENX2\", \"LSUPENX4\", \"LSUPENX8\", \"LSDNENX1\", \"LSDNENX2\", \"LSDNENX4\",\n",
    "    \"LSDNENX8\", \"RDFFX1\", \"RDFFX2\", \"RSDFFX1\", \"RSDFFX2\", \"RDFFNX1\", \"RDFFNX2\",\n",
    "    \"RSDFFNX1\", \"RSDFFNX2\", \"HEADX2\", \"HEADX4\", \"HEADX8\", \"HEADX16\", \"HEADX32\",\n",
    "    \"AOINVX1\", \"AOINVX2\", \"AOINVX4\", \"AOBUFX1\", \"AOBUFX2\", \"AOBUFX4\",\n",
    "    \"AODFFARX1\", \"AODFFARX2\", \"AODFFNARX1\", \"AODFFNARX2\", \"BUSKP\", \"PMT1\",\n",
    "    \"PMT2\", \"PMT3\", \"NMT1\", \"NMT2\", \"NMT3\", \"TIEH\", \"TIEL\", \"ANTENNA\", \"DCAP\",\n",
    "    \"CLOAD1\", \"SHFILL2\", \"DHFILLHLH2\", \"DHFILLLHL2\", \"DHFILLHLHLS11\"\n",
    "    \"AND2X1\", \"AND2X2\", \"AOI21X1\", \"AOI22X1\", \"BUFX2\", \"BUFX4\", \"CLKBUF1\",\n",
    "    \"CLKBUF2\", \"CLKBUF3\", \"DFFNEGX1\", \"DFFPOSX1\", \"DFFSR\", \"FAX1\", \"HAX1\",\n",
    "    \"INVX1\", \"INVX2\", \"INVX4\", \"INVX8\", \"LATCH\", \"MUX2X1\", \"MUX2X1\", \"NAND2X1\",\n",
    "    \"NAND3X1\", \"NOR2X1\", \"NOR3X1\", \"OAI21X1\", \"OAI22X1\", \"OR2X1\", \"OR2X2\",\n",
    "    \"PADINC\", \"PADINOUT\", \"PADOUT\", \"TBUFX1\", \"TBUFX2\", \"XNOR2X1\", \"XOR2X1\"\n",
    "]\n",
    "\n",
    "verilogfile = fname + '_flattened_p4.v'\n",
    "\n",
    "modules = dict()\n",
    "netlist = \"\"\n",
    "nets = ['input', 'output', 'wire', 'reg']\n",
    "submodules = []\n",
    "module_inps = []\n",
    "module_name = \"\"\n",
    "m_inps = []\n",
    "m_outs = []\n",
    "m_wires = []\n",
    "m_gates = {}\n",
    "with open(verilogfile, 'r') as vf:\n",
    "    for line in vf:\n",
    "        line = line.strip('\\n')\n",
    "        if \"endmodule\" in line:\n",
    "            sb = submodule(module_name, m_inps, m_outs, m_wires, m_gates)\n",
    "            submodules.append(sb)\n",
    "            #print(m_inps)\n",
    "            continue\n",
    "        if \"module\" in line:\n",
    "            module_name = re.split(r\"\\s+\", line)[1]\n",
    "\n",
    "            continue\n",
    "        if \"input\" in line.lower():\n",
    "            if line.find('[') >= 0:\n",
    "                s3 = line.strip().split()\n",
    "                s = s3[1][1:len(s3[1])].split(':')[0]\n",
    "                e = s3[1][1:len(s3[1])].split(':')[1].split(']')[0]\n",
    "                sname = line.strip().split(\n",
    "                    ']')[1][0:len(line.strip().split(']')[1]) - 1]\n",
    "                for i in range(int(e), int(s) + 1):\n",
    "                    m_inps.append(sname + '_' + str(i))\n",
    "\n",
    "            else:\n",
    "                s = line.split()[1][0:len(line.split()[1]) - 1]\n",
    "                m_inps.append(s)  #+=line.split()[1][0:len(line.split()[1])-1]\n",
    "            continue\n",
    "        if \"wire\" in line.lower():\n",
    "            if line.find('[') >= 0:\n",
    "                s3 = line.strip().split()\n",
    "                s = s3[1][1:len(s3[1])].split(':')[0]\n",
    "                e = s3[1][1:len(s3[1])].split(':')[1].split(']')[0]\n",
    "                sname = line.strip().split(\n",
    "                    ']')[1][0:len(line.strip().split(']')[1]) - 1]\n",
    "                for i in range(int(e), int(s) + 1):\n",
    "                    m_wires.append(sname.strip() + '_' + str(i))\n",
    "                    if 'Trojan' in sname.strip() + '_' + str(i):\n",
    "                        allwires[sname.strip() + '_' + str(i)] = 0\n",
    "                    else:\n",
    "                        allwires[sname.strip() + '_' + str(i)] = 1\n",
    "            else:\n",
    "                s = line.strip().split()[1][0:len(line.strip().split()[1])]\n",
    "                m_wires.append(s)  #+=line.split()[1][0:len(line.split()[1])-1]\n",
    "                if 'Trojan' in s:\n",
    "                    allwires[s] = 0\n",
    "                else:\n",
    "                    allwires[s] = 1\n",
    "            continue\n",
    "        if \"output\" in line.lower():\n",
    "            if line.find('[') >= 0:\n",
    "                s3 = line.strip().split()\n",
    "                s = s3[1][1:len(s3[1])].split(':')[0]\n",
    "                e = s3[1][1:len(s3[1])].split(':')[1].split(']')[0]\n",
    "                sname = line.strip().split(\n",
    "                    ']')[1][0:len(line.strip().split(']')[1]) - 1]\n",
    "                for i in range(int(e), int(s) + 1):\n",
    "                    m_outs.append(sname + '_' + str(i))\n",
    "            else:\n",
    "                s = line.split()[1][0:len(line.split()[1]) - 1]\n",
    "                m_outs.append(s)  #+=line.split()[1][0:len(line.split()[1])-1]\n",
    "            continue\n",
    "        g = Gate(\"\", \"\", [], [], 0)\n",
    "        if ([e for e in StdCells + [\"assign\"] if (e in line)]):\n",
    "            #print(line)\n",
    "            g = extractGateInfo(line)\n",
    "            for ot in g.outputs:\n",
    "                m_gates[ot] = g\n",
    "print(\"===========================================================\")\n",
    "print(len(m_inps))\n",
    "print(len(m_outs))\n",
    "print(len(m_wires))\n",
    "print(len(m_gates))\n",
    "#print(m_gates['AES.r4.t0.t1.s4.n208'].inputs)"
   ]
  },
  {
   "cell_type": "markdown",
   "metadata": {},
   "source": [
    "# Fan_in_x , in_flipflop_x, out_flipflop_x, in_MUX_x, out_MUX_x"
   ]
  },
  {
   "cell_type": "markdown",
   "metadata": {},
   "source": [
    "testability measures\n",
    "https://github.com/AbdulRahmanAlHamali/python-circuit-testability-measures/blob/master/src/parse_circuit_description_from_file.py"
   ]
  },
  {
   "cell_type": "markdown",
   "metadata": {},
   "source": [
    "fan_in_x                     The number of logic-gate fanins up to x-level away from the net n.\n",
    "in_flipflop_x                The number of flip-flops up to x-level away from the input side of the net n.\n",
    "out_flipflop_x               The number of flip-flops up to x-level away from the output side of the net n.\n",
    "in_multiplexer_x             The number of multiplexers up to x-level away from the input side of the net n.\n",
    "out_multiplexer_x            The number of multiplexers up to x-level away from the output side of the net n.\n",
    "in_loop_x                    The number of up tox-level loops.outloopxThe number of up to x-level loops.\n",
    "in_const_x                   The number of constants up to x-level away from the input side of the net n.\n",
    "out_const_x                  The number of constants up to x-level away from the output side of the net n.\n",
    "in_nearest_pin                The minimum level to the primary input from the net n.\n",
    "out_nearest_pout              The minimum level to the primary output from the net n.\n",
    "{in, out}nearest_flipflop     The minimum level to any flip-flop from the input or output side of the net n.\n",
    "{in, out}nearest_multiplexer  The minimum level to any multiplexer from the input or output side of the netn."
   ]
  },
  {
   "attachments": {
    "image.png": {
     "image/png": "[encoded data removed]"
    }
   },
   "cell_type": "markdown",
   "metadata": {},
   "source": [
    "https://journals.sagepub.com/doi/pdf/10.1177/1550147719888098\n",
    "![image.png](attachment:image.png)!"
   ]
  },
  {
   "attachments": {
    "image.png": {
     "image/png": "[encoded data removed]"
    }
   },
   "cell_type": "markdown",
   "metadata": {},
   "source": [
    "![image.png](attachment:image.png)"
   ]
  },
  {
   "cell_type": "code",
   "execution_count": null,
   "metadata": {
    "ExecuteTime": {
     "end_time": "2021-01-01T20:33:36.688403Z",
     "start_time": "2021-01-01T20:33:36.572518Z"
    },
    "hide_input": true
   },
   "outputs": [],
   "source": [
    "print(mdic_gates['Trojan.lfsr.lfsr_stream_19'])\n",
    "print(mdic_gates['Trojan.lfsr.lfsr_stream_19'][0].gtype)\n",
    "print(mdic_gates['Trojan.lfsr.lfsr_stream_19'][0].outputs)\n",
    "\n",
    "for w in allwires:\n",
    "    if w=='Trojan.counter_19':\n",
    "        print('ok')\n"
   ]
  },
  {
   "cell_type": "code",
   "execution_count": null,
   "metadata": {
    "hide_input": true
   },
   "outputs": [],
   "source": [
    "flag=False\n",
    "for g1 in m_gates:\n",
    "    for g2 in m_gates:\n",
    "        if len(set(g1.outputs).intersection(set(g2.outputs)))>0 and g1!=g2:\n",
    "            print(len(set(g1.outputs).intersection(set(g2.outputs))))\n",
    "            print(g1.gtype,g1.inputs,g1.outputs)\n",
    "            print(g2.gtype,g2.inputs,g2.outputs)\n",
    "            flage=True\n",
    "            break\n",
    "    if flag:\n",
    "        break"
   ]
  },
  {
   "cell_type": "markdown",
   "metadata": {},
   "source": [
    "output of a FF and select input of a MUX"
   ]
  },
  {
   "cell_type": "code",
   "execution_count": null,
   "metadata": {
    "hide_input": true
   },
   "outputs": [],
   "source": [
    "print(m_gates['AES.r9.t3.t0.out_24'].inputs)"
   ]
  },
  {
   "cell_type": "code",
   "execution_count": null,
   "metadata": {
    "hide_input": true
   },
   "outputs": [],
   "source": [
    "print(m_gates[0].gtype,m_gates[0].inputs, m_gates[0].outputs)\n",
    "print(m_gates[141264].gtype,m_gates[141264].inputs, m_gates[141264].outputs)\n",
    "print(len(set(m_gates[0].outputs).intersection(set(m_gates[141264].outputs))))"
   ]
  },
  {
   "cell_type": "code",
   "execution_count": null,
   "metadata": {
    "ExecuteTime": {
     "end_time": "2021-01-05T17:18:18.069228Z",
     "start_time": "2021-01-05T17:18:18.064224Z"
    },
    "code_folding": [
     0
    ],
    "hide_input": true
   },
   "outputs": [],
   "source": [
    "def calF1(w):\n",
    "    f1=[0,[]]\n",
    "    if w in m_gates.keys():\n",
    "        if m_gates[w].gtype!='assign':\n",
    "            f1=[len(m_gates[w].inputs),m_gates[w].inputs]\n",
    "        else:\n",
    "            #print(m_gates[w].outputs,m_gates[w].inputs)\n",
    "            if m_gates[w].inputs[0] in m_gates.keys():\n",
    "                f1=[len(m_gates[m_gates[w].inputs[0]].inputs),m_gates[m_gates[w].inputs[0]].inputs]\n",
    "    return f1\n",
    "\n",
    "    "
   ]
  },
  {
   "cell_type": "code",
   "execution_count": null,
   "metadata": {
    "hide_input": true
   },
   "outputs": [],
   "source": [
    "if 'Trojan.counter_19' in m_gates.keys():\n",
    "    print(m_gates['Trojan.counter_19'])"
   ]
  },
  {
   "cell_type": "code",
   "execution_count": null,
   "metadata": {
    "hide_input": true
   },
   "outputs": [],
   "source": [
    "calF1('Trojan.counter_19')"
   ]
  },
  {
   "cell_type": "code",
   "execution_count": null,
   "metadata": {
    "ExecuteTime": {
     "end_time": "2021-01-08T08:52:23.075837Z",
     "start_time": "2021-01-08T08:52:23.069832Z"
    }
   },
   "outputs": [],
   "source": [
    "[m_inps, m_outs, m_wires,allwires, m_gates, mdic_gates]=alldata['AEST100\\AEST100']\n"
   ]
  },
  {
   "cell_type": "code",
   "execution_count": null,
   "metadata": {
    "ExecuteTime": {
     "end_time": "2021-01-08T08:55:31.006277Z",
     "start_time": "2021-01-08T08:55:31.002275Z"
    }
   },
   "outputs": [],
   "source": [
    "mdic_gates['_570009_']"
   ]
  },
  {
   "cell_type": "code",
   "execution_count": null,
   "metadata": {
    "code_folding": [
     0,
     23,
     28
    ],
    "run_control": {
     "marked": true
    }
   },
   "outputs": [],
   "source": [
    "def calMUX1(w):\n",
    "    f1=[0,[]]\n",
    "    if w in m_gates.keys():\n",
    "        #print(w, m_gates[w])\n",
    "        if m_gates[w]!=[]:\n",
    "            if m_gates[w].gtype!='assign':\n",
    "                wl=m_gates[w].inputs\n",
    "                ff1=0\n",
    "                if m_gates[w].gtype.startswith('MUX'):\n",
    "                    ff1=1#len(m_gates[w].inputs)\n",
    "                f1=[ff1,wl]\n",
    "            else:\n",
    "                if m_gates[w].inputs[0] in m_gates.keys():\n",
    "                    wl2=[]\n",
    "                    ff12=0\n",
    "                    if m_gates[m_gates[w].inputs[0]]!=[]:\n",
    "                        wl2=m_gates[m_gates[w].inputs[0]].inputs\n",
    "                        ff12=1#len(m_gates[m_gates[w].inputs[0]].inputs)\n",
    "                    else:\n",
    "                        wl2=[]\n",
    "                        ff12=0\n",
    "                    f1=[ff12,wl2]\n",
    "    return f1\n",
    "def MUXIn_1():\n",
    "    mux_in_1={}\n",
    "    for w in m_wires:\n",
    "        mux_in_1[w]=calMUX1(w)\n",
    "    return mux_in_1\n",
    "def MUXIn_2(mux_in_1):\n",
    "    ff_in_2={}\n",
    "    for f1 in mux_in_1:\n",
    "        f2=0\n",
    "        wl2=[]\n",
    "        for w in mux_in_1[f1][1]:\n",
    "            wl2+=calMUX1(w)[1]\n",
    "            f2+=calMUX1(w)[0]\n",
    "        wl2q = [] \n",
    "        for i in wl2: \n",
    "            if i not in wl2q: \n",
    "                wl2q.append(i) \n",
    "        ff_in_2[f1]=[f2+ff_in_1[f1][0],wl2q]\n",
    "    return ff_in_2\n",
    "\n"
   ]
  },
  {
   "cell_type": "code",
   "execution_count": 3,
   "metadata": {
    "ExecuteTime": {
     "end_time": "2021-01-09T13:16:38.711176Z",
     "start_time": "2021-01-09T12:48:20.210581Z"
    },
    "code_folding": [
     5,
     12,
     48,
     51,
     81,
     117,
     119,
     124,
     127,
     182,
     186,
     200,
     208,
     223,
     228,
     233,
     238,
     243,
     253,
     258,
     268,
     273,
     282,
     287,
     296,
     301,
     311,
     316,
     334,
     339,
     344,
     353,
     358,
     367,
     372,
     381,
     386
    ],
    "run_control": {
     "marked": true
    },
    "scrolled": true
   },
   "outputs": [
    {
     "name": "stdout",
     "output_type": "stream",
     "text": [
      "===================================AEST100\\AEST100===============================\n",
      "============================================fan_in_x===============================\n",
      "============================================ff_in_x===============================\n",
      "============================================write featers===============================\n",
      "===================================AEST400\\AEST400===============================\n",
      "============================================fan_in_x===============================\n",
      "============================================ff_in_x===============================\n",
      "============================================write featers===============================\n",
      "===================================AEST700\\AEST700===============================\n",
      "============================================fan_in_x===============================\n",
      "============================================ff_in_x===============================\n",
      "============================================write featers===============================\n",
      "===================================AEST900\\AEST900===============================\n",
      "============================================fan_in_x===============================\n",
      "============================================ff_in_x===============================\n",
      "============================================write featers===============================\n",
      "===================================AEST1000\\AEST1000===============================\n",
      "============================================fan_in_x===============================\n",
      "============================================ff_in_x===============================\n",
      "============================================write featers===============================\n"
     ]
    },
    {
     "ename": "ValueError",
     "evalue": "This sheet is too large! Your sheet size is: 1158419, 11 Max sheet size is: 1048576, 16384",
     "output_type": "error",
     "traceback": [
      "\u001b[1;31m---------------------------------------------------------------------------\u001b[0m",
      "\u001b[1;31mValueError\u001b[0m                                Traceback (most recent call last)",
      "\u001b[1;32m<ipython-input-3-c89fc0fff4b4>\u001b[0m in \u001b[0;36m<module>\u001b[1;34m\u001b[0m\n\u001b[0;32m    515\u001b[0m \u001b[1;32mimport\u001b[0m \u001b[0mpandas\u001b[0m \u001b[1;32mas\u001b[0m \u001b[0mpd\u001b[0m\u001b[1;33m\u001b[0m\u001b[1;33m\u001b[0m\u001b[0m\n\u001b[0;32m    516\u001b[0m \u001b[0mdf\u001b[0m \u001b[1;33m=\u001b[0m \u001b[0mpd\u001b[0m\u001b[1;33m.\u001b[0m\u001b[0mDataFrame\u001b[0m\u001b[1;33m(\u001b[0m\u001b[0mdata\u001b[0m\u001b[1;33m=\u001b[0m\u001b[0mallfeatures\u001b[0m\u001b[1;33m)\u001b[0m\u001b[1;33m\u001b[0m\u001b[1;33m\u001b[0m\u001b[0m\n\u001b[1;32m--> 517\u001b[1;33m \u001b[0mdf\u001b[0m\u001b[1;33m.\u001b[0m\u001b[0mT\u001b[0m\u001b[1;33m.\u001b[0m\u001b[0mto_excel\u001b[0m\u001b[1;33m(\u001b[0m\u001b[1;34m'allfeatures2.xlsx'\u001b[0m\u001b[1;33m)\u001b[0m\u001b[1;33m\u001b[0m\u001b[1;33m\u001b[0m\u001b[0m\n\u001b[0m\u001b[0;32m    518\u001b[0m \u001b[1;31m# book.save('aesT100_800.xlsx')\u001b[0m\u001b[1;33m\u001b[0m\u001b[1;33m\u001b[0m\u001b[1;33m\u001b[0m\u001b[0m\n",
      "\u001b[1;32m~\\anaconda3\\lib\\site-packages\\pandas\\core\\generic.py\u001b[0m in \u001b[0;36mto_excel\u001b[1;34m(self, excel_writer, sheet_name, na_rep, float_format, columns, header, index, index_label, startrow, startcol, engine, merge_cells, encoding, inf_rep, verbose, freeze_panes)\u001b[0m\n\u001b[0;32m   2173\u001b[0m             \u001b[0minf_rep\u001b[0m\u001b[1;33m=\u001b[0m\u001b[0minf_rep\u001b[0m\u001b[1;33m,\u001b[0m\u001b[1;33m\u001b[0m\u001b[1;33m\u001b[0m\u001b[0m\n\u001b[0;32m   2174\u001b[0m         )\n\u001b[1;32m-> 2175\u001b[1;33m         formatter.write(\n\u001b[0m\u001b[0;32m   2176\u001b[0m             \u001b[0mexcel_writer\u001b[0m\u001b[1;33m,\u001b[0m\u001b[1;33m\u001b[0m\u001b[1;33m\u001b[0m\u001b[0m\n\u001b[0;32m   2177\u001b[0m             \u001b[0msheet_name\u001b[0m\u001b[1;33m=\u001b[0m\u001b[0msheet_name\u001b[0m\u001b[1;33m,\u001b[0m\u001b[1;33m\u001b[0m\u001b[1;33m\u001b[0m\u001b[0m\n",
      "\u001b[1;32m~\\anaconda3\\lib\\site-packages\\pandas\\io\\formats\\excel.py\u001b[0m in \u001b[0;36mwrite\u001b[1;34m(self, writer, sheet_name, startrow, startcol, freeze_panes, engine)\u001b[0m\n\u001b[0;32m    716\u001b[0m         \u001b[0mnum_rows\u001b[0m\u001b[1;33m,\u001b[0m \u001b[0mnum_cols\u001b[0m \u001b[1;33m=\u001b[0m \u001b[0mself\u001b[0m\u001b[1;33m.\u001b[0m\u001b[0mdf\u001b[0m\u001b[1;33m.\u001b[0m\u001b[0mshape\u001b[0m\u001b[1;33m\u001b[0m\u001b[1;33m\u001b[0m\u001b[0m\n\u001b[0;32m    717\u001b[0m         \u001b[1;32mif\u001b[0m \u001b[0mnum_rows\u001b[0m \u001b[1;33m>\u001b[0m \u001b[0mself\u001b[0m\u001b[1;33m.\u001b[0m\u001b[0mmax_rows\u001b[0m \u001b[1;32mor\u001b[0m \u001b[0mnum_cols\u001b[0m \u001b[1;33m>\u001b[0m \u001b[0mself\u001b[0m\u001b[1;33m.\u001b[0m\u001b[0mmax_cols\u001b[0m\u001b[1;33m:\u001b[0m\u001b[1;33m\u001b[0m\u001b[1;33m\u001b[0m\u001b[0m\n\u001b[1;32m--> 718\u001b[1;33m             raise ValueError(\n\u001b[0m\u001b[0;32m    719\u001b[0m                 \u001b[1;34mf\"This sheet is too large! Your sheet size is: {num_rows}, {num_cols} \"\u001b[0m\u001b[1;33m\u001b[0m\u001b[1;33m\u001b[0m\u001b[0m\n\u001b[0;32m    720\u001b[0m                 \u001b[1;34mf\"Max sheet size is: {self.max_rows}, {self.max_cols}\"\u001b[0m\u001b[1;33m\u001b[0m\u001b[1;33m\u001b[0m\u001b[0m\n",
      "\u001b[1;31mValueError\u001b[0m: This sheet is too large! Your sheet size is: 1158419, 11 Max sheet size is: 1048576, 16384"
     ]
    }
   ],
   "source": [
    "# del df\n",
    "# del alldata\n",
    "#del allfeatures\n",
    "fnames=['AEST100\\AEST100','AEST400\\AEST400','AEST700\\AEST700','AEST900\\AEST900','AEST1000\\AEST1000']\n",
    "import re\n",
    "class Gate:\n",
    "    def __init__(self, name, gtype, inputs, outputs, CellLoad):\n",
    "        self.name = name\n",
    "        self.gtype = gtype\n",
    "        self.inputs = inputs\n",
    "        self.outputs = outputs\n",
    "        self.CellLoad = CellLoad\n",
    "def unpackArray(s):\n",
    "    import re\n",
    "    lst = []\n",
    "    pattern = \"\\[(.*?)\\]\"\n",
    "    ss = re.search(pattern, s)\n",
    "    # print(ss)\n",
    "    if ss:\n",
    "        l = ss.group(1).split(':')\n",
    "        #print(l[0])\n",
    "        if len(l) > 1:\n",
    "            left = int(l[0])\n",
    "            right = int(l[1])\n",
    "            if left > right:\n",
    "                for i in range(left, right - 1, -1):\n",
    "                    lst.append(s.strip().split('[')[0].strip() + \"_\" +\n",
    "                               str(i).strip())\n",
    "            else:\n",
    "                for i in range(left, right + 1, 1):\n",
    "                    lst.append(s.strip().split('[')[0].strip() + \"_\" +\n",
    "                               str(i).strip())\n",
    "        else:\n",
    "            lst.append(s.strip().split('[')[0].strip() + \"_\" +\n",
    "                       str(l[0]).strip())\n",
    "    else:\n",
    "        if s.strip() in m_wires2:\n",
    "            for i in range(m_wires2[s.strip()]):\n",
    "                #print(s)\n",
    "                lst.append(s.strip() + '_' + str(m_wires2[s.strip()] - 1 - i))\n",
    "        else:\n",
    "            lst.append(s.strip())\n",
    "\n",
    "\n",
    "#         for w in m_wires:\n",
    "#             if w.rsplit('_',1)[0]==s or w==s:\n",
    "#                 lst.append(w)\n",
    "    return lst\n",
    "def parse_wires(lines):\n",
    "    m_wires = []\n",
    "    allwires = {}\n",
    "    for line in lines:\n",
    "        if \"wire\" in line.lower() or \"input\" in line.lower(\n",
    "        ) or \"output\" in line.lower():\n",
    "            #print(line)\n",
    "            if line.find('[') >= 0:\n",
    "                s3 = line.strip().split()\n",
    "                s = s3[1][1:len(s3[1])].split(':')[0]\n",
    "                e = s3[1][1:len(s3[1])].split(':')[1].split(']')[0]\n",
    "                sname = line.strip().split(\n",
    "                    ']')[1][0:len(line.strip().split(']')[1]) - 1]\n",
    "                for i in range(int(e), int(s) + 1):\n",
    "                    m_wires.append(sname.strip() + '_' + str(i))\n",
    "#                     print(sname.strip())\n",
    "                    if 'Trojan' in sname.strip(\n",
    "                    ) or 'TSC' in sname.strip() or 'Tj_Trigger' in sname.strip(\n",
    "                    ) or 'Trigger' in sname.strip():  # + '_' + str(i)\n",
    "                        allwires[sname.strip() + '_' + str(i)] = 0\n",
    "                    else:\n",
    "                        allwires[sname.strip() + '_' + str(i)] = 1\n",
    "            else:\n",
    "                s = line.strip().split()[1][0:len(line.strip().split()[1])]\n",
    "                m_wires.append(s.strip().split(\n",
    "                    ';')[0])  #+=line.split()[1][0:len(line.split()[1])-1]\n",
    "                if 'Trojan' in s:\n",
    "                    allwires[s.split(';')[0]] = 0\n",
    "                else:\n",
    "                    allwires[s.split(';')[0]] = 1\n",
    "            continue\n",
    "    return [m_wires, allwires]\n",
    "#[m_wires,allwires]=parse_wires(lines)\n",
    "def procAssigns(line):\n",
    "    gtype = \"assign\"\n",
    "    gcellload = 0\n",
    "    inps = []\n",
    "    outs = []\n",
    "    pattern = \"\\{(.*?)\\}\"\n",
    "    left = []\n",
    "    right = []\n",
    "    inps = []\n",
    "    outs = []\n",
    "    if re.search(\n",
    "            pattern,\n",
    "            line.split('=')\n",
    "        [0].strip()):  # Checks if the left side is in {a,b,...} format.\n",
    "        s = re.search(pattern, line.split('=')[0].strip())\n",
    "        for ss in s.group(1).split(','):\n",
    "            left += unpackArray(ss)\n",
    "    else:\n",
    "        left += unpackArray(line.split('=')[0].strip().split(' ', 1)[1])\n",
    "        #print(left)\n",
    "    if re.search(\n",
    "            pattern,\n",
    "            line.split('=')\n",
    "        [1].strip()):  # Checks if the right side is in {a,b,...} format.\n",
    "        s = re.search(pattern, line.split('=')[1].strip())\n",
    "        for ss in s.group(1).split(','):\n",
    "            right += unpackArray(ss.split(';')[0])\n",
    "    else:\n",
    "        right += unpackArray(line.split('=')[1].strip().split(';')[0])\n",
    "    inps += right\n",
    "    outs += left\n",
    "    g = []\n",
    "    #print(inps,outs)\n",
    "    for i in range(len(inps)):\n",
    "        g += [Gate(\"\", gtype, [inps[i]], [outs[i]], gcellload)]\n",
    "    return g\n",
    "def parse_asignments(lines):\n",
    "    g = []\n",
    "    for line in lines:\n",
    "        if 'assign' in line.lower():\n",
    "            #             print(line)\n",
    "            g += procAssigns(line)\n",
    "    return g\n",
    "def parse_gates(lines):\n",
    "    m_gates = []\n",
    "    for line in lines:\n",
    "        if line != None:\n",
    "            #print('-->',line)\n",
    "            cellname = line.strip().split()[0].strip()\n",
    "            gname = \"\"\n",
    "            gtype = \"\"\n",
    "            g = Gate(\"\", \"\", [], [], 0)\n",
    "            if cellname in StdCells:  # [\"INVX0\",\"INVX1\",\"INVX2\",\"INVX4\",\"INVX8\",\"INVX16\",\"INVX32\",\"IBUFFX2\",\"IBUFFX4\",\"IBUFFX8\",\"IBUFFX16\",\"IBUFFX32\",\"NBUFFX2\",\"NBUFFX4\",\"NBUFFX8\",\"NBUFFX16\",\"NBUFFX32\"]:\n",
    "                #             print('+++>', line)\n",
    "                gtype = cellname\n",
    "                gname = line.strip().split()[1]\n",
    "#                 print(cellname)\n",
    "#                 print(cellname[len(cellname) - 1:len(cellname)])\n",
    "                Xstr=cellname[len(cellname) - 1:len(cellname)]\n",
    "                gcellload=0\n",
    "                if Xstr.isnumeric():\n",
    "                    X=int(Xstr)\n",
    "                    X = int()\n",
    "\n",
    "                    if X == 0:\n",
    "                        X = 0.5\n",
    "                    gcellload = X\n",
    "                inps = []\n",
    "                outs = []\n",
    "                s = line[line.find(\"(\") + 1:line.rfind(\")\")].split(',')\n",
    "                for i in range(len(s)):\n",
    "                    if line.strip().startswith('MUX'):\n",
    "                        if s[i].startswith('.Y'):\n",
    "                            strpar = s[i][s[i].find(\"(\") +\n",
    "                                          1:s[i].rfind(\")\")].strip()\n",
    "                            outs += unpackArray(strpar)\n",
    "                        else:\n",
    "                            inps += unpackArray(\n",
    "                                s[i][s[i].find(\"(\") +\n",
    "                                     1:s[i].rfind(\")\")].strip())\n",
    "                    else:\n",
    "                        if s[i].strip().split('(')[0] in [\n",
    "                                \".Y\", \".YPAD\", \".DI\", \".YS\", \".QN\", \".ZN\",\n",
    "                                \".Q\", \".Q3\", \".Q2\", \".Q1\", \".Q0\", \".SO\", \".C1\",\n",
    "                                \".CO\", \".S\"\n",
    "                        ]:\n",
    "                            #re.search('^\\.Q',s[i].strip())|re.search('^\\.QN',s[i].strip())|re.search('^\\.ZN',s[i].strip())|re.search('^\\.S',s[i].strip())|re.search('^\\.CLK',s[i].strip())|re.search('^\\.I',s[i].strip())|re.search('^\\.I',s[i].strip())|re.search('^\\.I',s[i].strip()):\n",
    "                            strpar = s[i][s[i].find(\"(\") +\n",
    "                                          1:s[i].rfind(\")\")].strip()\n",
    "                            outs += unpackArray(\n",
    "                                strpar\n",
    "                            )  #.append(s[i][s[i].find(\"(\")+1:s[i].rfind(\")\")].strip())\n",
    "                        else:\n",
    "                            #                             print(line,s[i][s[i].find(\"(\") + 1:s[i].rfind(\")\")].strip())\n",
    "                            inps += unpackArray(\n",
    "                                s[i][s[i].find(\"(\") +\n",
    "                                     1:s[i].rfind(\")\")].strip())\n",
    "\n",
    "                #print(gname,gtype,inps,outs)\n",
    "                m_gates.append(Gate(gname, gtype, inps, outs, gcellload))\n",
    "    return (m_gates)\n",
    "def parse_primary_inputes(lines):\n",
    "    m_inps = []\n",
    "    for line in lines:\n",
    "        if \"input\" in line.lower():\n",
    "            if line.find('[') >= 0:\n",
    "                s3 = line.strip().split()\n",
    "                s = s3[1][1:len(s3[1])].split(':')[0]\n",
    "                e = s3[1][1:len(s3[1])].split(':')[1].split(']')[0]\n",
    "                sname = line.strip().split(\n",
    "                    ']')[1][0:len(line.strip().split(']')[1]) - 1]\n",
    "                for i in range(int(e), int(s) + 1):\n",
    "                    m_inps.append(sname + '_' + str(i))\n",
    "\n",
    "            else:\n",
    "                s = line.split()[1][0:len(line.split()[1]) - 1]\n",
    "                m_inps.append(s)  #+=line.split()[1][0:len(line.split()[1])-1]\n",
    "            continue\n",
    "    return m_inps\n",
    "def parse_primary_outputs(lines):\n",
    "    m_outs = []\n",
    "    for line in lines:\n",
    "        if \"output\" in line.lower():\n",
    "            if line.find('[') >= 0:\n",
    "                s3 = line.strip().split()\n",
    "                s = s3[1][1:len(s3[1])].split(':')[0]\n",
    "                e = s3[1][1:len(s3[1])].split(':')[1].split(']')[0]\n",
    "                sname = line.strip().split(\n",
    "                    ']')[1][0:len(line.strip().split(']')[1]) - 1]\n",
    "                for i in range(int(e), int(s) + 1):\n",
    "                    m_outs.append(sname + '_' + str(i))\n",
    "\n",
    "            else:\n",
    "                s = line.split()[1][0:len(line.split()[1]) - 1]\n",
    "                m_outs.append(s)  #+=line.split()[1][0:len(line.split()[1])-1]\n",
    "            continue\n",
    "    return m_outs\n",
    "import pickle\n",
    "\n",
    "alldata= pickle.load(open('AEST100_200_400_700_800_900_1000_1100.pickle','rb'))\n",
    "\n",
    "\n",
    "def calF1(w):\n",
    "    f1=[0,[]]\n",
    "    if w in m_gates.keys():\n",
    "        if m_gates[w].gtype!='assign':\n",
    "            f1=[len(m_gates[w].inputs),m_gates[w].inputs]\n",
    "        else:\n",
    "            #print(m_gates[w].outputs,m_gates[w].inputs)\n",
    "            if m_gates[w].inputs[0] in m_gates.keys():\n",
    "                f1=[len(m_gates[m_gates[w].inputs[0]].inputs),m_gates[m_gates[w].inputs[0]].inputs]\n",
    "    return f1\n",
    "def FanIn_1():\n",
    "    fan_in_1={}\n",
    "    for w in m_wires:\n",
    "        fan_in_1[w]=calF1(w)\n",
    "    return fan_in_1\n",
    "def FanIn_2(fan_in_1):\n",
    "    fan_in_2={}\n",
    "    for f1 in fan_in_1:\n",
    "        f2=0\n",
    "        wl2=[]\n",
    "        for w in fan_in_1[f1][1]:\n",
    "            wl2+=calF1(w)[1]\n",
    "        wl2q = [] \n",
    "        for i in wl2: \n",
    "            if i not in wl2q: \n",
    "                wl2q.append(i) \n",
    "                f2+=1\n",
    "        fan_in_2[f1]=[f2,wl2q]\n",
    "        \n",
    "    return fan_in_2\n",
    "def FanIn_3(fan_in_2):\n",
    "    fan_in_3={}\n",
    "    for f2 in fan_in_2:\n",
    "        f3=0\n",
    "        wl3=[]\n",
    "        for w in fan_in_2[f2][1]:\n",
    "            wl3+=calF1(w)[1]\n",
    "        wl3q = [] \n",
    "        for i in wl3: \n",
    "            if i not in wl3q: \n",
    "                wl3q.append(i) \n",
    "                f3+=1\n",
    "        fan_in_3[f2]=[f3,wl3q]\n",
    "        \n",
    "    return fan_in_3\n",
    "def FanIn_4(fan_in_3):\n",
    "    fan_in_4={}\n",
    "    for f3 in fan_in_3:\n",
    "        f4=0\n",
    "        wl4=[]\n",
    "        for w in fan_in_3[f3][1]:\n",
    "            wl4+=calF1(w)[1]\n",
    "        wl4q = [] \n",
    "        for i in wl4: \n",
    "            if i not in wl4q:\n",
    "                wl4q.append(i) \n",
    "                f4+=1\n",
    "        fan_in_4[f3]=[f4,wl4q]\n",
    "    return fan_in_4\n",
    "def FanIn_5(fan_in_4):\n",
    "    fan_in_5={}\n",
    "    for f4 in fan_in_4:\n",
    "        f5=0\n",
    "        wl5=[]\n",
    "        for w in fan_in_4[f4][1]:\n",
    "            wl5+=calF1(w)[1]\n",
    "        wl5q = [] \n",
    "        for i in wl5: \n",
    "            if i not in wl5q:\n",
    "                wl5q.append(i) \n",
    "                f5+=1\n",
    "        fan_in_5[f4]=[f5,wl5q]\n",
    "    return fan_in_5\n",
    "def FanIn_6(fan_in_5):\n",
    "    fan_in_6={}\n",
    "    for f5 in fan_in_5:\n",
    "        f6=0\n",
    "        wl6=[]\n",
    "        for w in fan_in_5[f5][1]:\n",
    "            wl6+=calF1(w)[1]\n",
    "        wl6q = [] \n",
    "        for i in wl6: \n",
    "            if i not in wl6q:\n",
    "                wl6q.append(i) \n",
    "                f6+=1\n",
    "        fan_in_6[f5]=[f6,wl6q]\n",
    "    return fan_in_6\n",
    "\n",
    "def calFF1(w):\n",
    "    f1=[0,[]]\n",
    "    if w in m_gates.keys():\n",
    "        #print(w, m_gates[w])\n",
    "        if m_gates[w]!=[]:\n",
    "            if m_gates[w].gtype!='assign':\n",
    "                wl=m_gates[w].inputs\n",
    "                ff1=0\n",
    "                if m_gates[w].gtype.startswith('DFF'):\n",
    "                    ff1=1#len(m_gates[w].inputs)\n",
    "                f1=[ff1,wl]\n",
    "            else:\n",
    "                if m_gates[w].inputs[0] in m_gates.keys():\n",
    "                    wl2=[]\n",
    "                    ff12=0\n",
    "                    if m_gates[m_gates[w].inputs[0]]!=[]:\n",
    "                        wl2=m_gates[m_gates[w].inputs[0]].inputs\n",
    "                        ff12=1#len(m_gates[m_gates[w].inputs[0]].inputs)\n",
    "                    else:\n",
    "                        wl2=[]\n",
    "                        ff12=0\n",
    "                    f1=[ff12,wl2]\n",
    "    return f1\n",
    "def FFIn_1():\n",
    "    ff_in_1={}\n",
    "    for w in m_wires:\n",
    "        ff_in_1[w]=calFF1(w)\n",
    "    return ff_in_1\n",
    "def FFIn_2(ff_in_1):\n",
    "    ff_in_2={}\n",
    "    for f1 in ff_in_1:\n",
    "        f2=0\n",
    "        wl2=[]\n",
    "        for w in ff_in_1[f1][1]:\n",
    "            wl2+=calFF1(w)[1]\n",
    "            f2+=calFF1(w)[0]\n",
    "        wl2q = [] \n",
    "        for i in wl2: \n",
    "            if i not in wl2q: \n",
    "                wl2q.append(i) \n",
    "        ff_in_2[f1]=[f2+ff_in_1[f1][0],wl2q]\n",
    "    return ff_in_2\n",
    "def FFIn_3(ff_in_2):\n",
    "    ff_in_3={}\n",
    "    for f2 in ff_in_2:\n",
    "        f3=0\n",
    "        wl3=[]\n",
    "        for w in ff_in_2[f2][1]:\n",
    "            wl3+=calFF1(w)[1]\n",
    "            f3+=calFF1(w)[0]\n",
    "        wl3q = [] \n",
    "        for i in wl3: \n",
    "            if i not in wl3q: \n",
    "                wl3q.append(i) \n",
    "        ff_in_3[f2]=[f3+ff_in_2[f2][0],wl3q]\n",
    "    return ff_in_3\n",
    "def FFIn_4(ff_in_3):\n",
    "    ff_in_4={}\n",
    "    for f3 in ff_in_3:\n",
    "        f4=0\n",
    "        wl4=[]\n",
    "        for w in ff_in_3[f3][1]:\n",
    "            wl4+=calFF1(w)[1]\n",
    "            f4+=calFF1(w)[0]\n",
    "        wl4q = [] \n",
    "        for i in wl4: \n",
    "            if i not in wl4q: \n",
    "                wl4q.append(i) \n",
    "        ff_in_4[f3]=[f4+ff_in_3[f3][0],wl4q]\n",
    "    return ff_in_4\n",
    "def FFIn_5(ff_in_4):\n",
    "    ff_in_5={}\n",
    "    for f4 in ff_in_4:\n",
    "        f5=0\n",
    "        wl5=[]\n",
    "        for w in ff_in_4[f4][1]:\n",
    "            wl5+=calFF1(w)[1]\n",
    "            f5+=calFF1(w)[0]\n",
    "        wl5q = [] \n",
    "        for i in wl5: \n",
    "            if i not in wl5q: \n",
    "                wl5q.append(i) \n",
    "        ff_in_5[f4]=[f5+ff_in_4[f4][0],wl5q]\n",
    "    return ff_in_5\n",
    "\n",
    "# def calFFO_1(net):\n",
    "#     level1=[]\n",
    "#     wlist=net\n",
    "#     wl=[]\n",
    "#     fo1=0\n",
    "#     while(len(wlist)>0):\n",
    "# #         print(wlist)\n",
    "#         w=wlist.pop(0)\n",
    "#         for g in m_gates:\n",
    "#             if m_gates[g]!=[]:\n",
    "#                 if w in m_gates[g].inputs:\n",
    "#                     if m_gates[g].gtype=='assign':\n",
    "#                         #print(m_gates[g].outputs[0])\n",
    "#                         wlist.append(m_gates[g].outputs[0])\n",
    "#                     else:\n",
    "#                         level1.append(g)\n",
    "#                         if m_gates[g].gtype.startswith('DFF'):\n",
    "#                             fo1+=1\n",
    "#     return [fo1,level1]\n",
    "# def calFFO_2(net):\n",
    "#     ffo1=calFFO_1(net)\n",
    "#     ffo2=calFFO_1(ffo1[1])\n",
    "#     return (ffo1[0]+ffo2[0],ffo2[1])\n",
    "# def calFFO_3(net):\n",
    "#     ffo1=calFFO_1(net)\n",
    "#     ffo2=calFFO_1(ffo1[1])\n",
    "#     ffo3=calFFO_1(ffo2[1])\n",
    "#     return (ffo1[0]+ffo2[0]+ffo3[0],ffo3[1])\n",
    "# def calFFO_4(net):\n",
    "#     ffo1=calFFO_1(net)\n",
    "#     ffo2=calFFO_1(ffo1[1])\n",
    "#     ffo3=calFFO_1(ffo2[1])\n",
    "#     ffo4=calFFO_1(ffo3[1])\n",
    "#     return (ffo1[0]+ffo2[0]+ffo3[0]+ffo4[0],ffo4[1])\n",
    "# def calFFO_5(net):\n",
    "#     ffo1=calFFO_1(net)\n",
    "#     ffo2=calFFO_1(ffo1[1])\n",
    "#     ffo3=calFFO_1(ffo2[1])\n",
    "#     ffo4=calFFO_1(ffo3[1])\n",
    "#     ffo5=calFFO_1(ffo4[1])\n",
    "#     return (ffo1[0]+ffo2[0]+ffo3[0]+ffo4[0]+ffo5[0],ffo5[1])\n",
    "# def calFFO_6(net):\n",
    "#     ffo1=calFFO_1(net)\n",
    "#     ffo2=calFFO_1(ffo1[1])\n",
    "#     ffo3=calFFO_1(ffo2[1])\n",
    "#     ffo4=calFFO_1(ffo3[1])\n",
    "#     ffo5=calFFO_1(ffo4[1])\n",
    "#     ffo6=calFFO_1(ffo5[1])\n",
    "#     return (ffo1[0]+ffo2[0]+ffo3[0]+ffo4[0]+ffo5[0]+ffo6[0],ffo6[1])\n",
    "\n",
    "# def FFO_1():\n",
    "#     ff_out_1={}\n",
    "#     for w in m_wires:\n",
    "#         ff_out_1[w]=calFFO_1([w])\n",
    "#     return ff_out_1\n",
    "# def FFO_2():\n",
    "#     ff_out_2={}\n",
    "#     for w in m_wires:\n",
    "#         ff_out_2[w]=calFFO_2([w])\n",
    "#     return ff_out_2\n",
    "# def FFO_3():\n",
    "#     ff_out_3={}\n",
    "#     for w in m_wires:\n",
    "#         ff_out_3[w]=calFFO_3([w])\n",
    "#     return ff_out_3\n",
    "# def FFO_4():\n",
    "#     ff_out_4={}\n",
    "#     for w in m_wires:\n",
    "#         ff_out_4[w]=calFFO_4([w])\n",
    "#     return ff_out_4\n",
    "# def FFO_5():\n",
    "#     ff_out_5={}\n",
    "#     for w in m_wires:\n",
    "#         ff_out_5[w]=calFFO_5([w])\n",
    "#     return ff_out_5\n",
    "# def FFO_6():\n",
    "#     ff_out_6={}\n",
    "#     for w in m_wires:\n",
    "#         ff_out_6[w]=calFFO_6([w])\n",
    "#     return ff_out_6\n",
    "# [m_inps, m_outs, m_wires, m_gates, mdic_gates]\n",
    "from openpyxl import Workbook\n",
    "book = Workbook()\n",
    "sheet = book.active\n",
    "sheet.append(('wire','fan_in_1','fan_in_2','fan_in_3','fan_in_4','fan_in_5','in_flipflop_1','in_flipflop_2','in_flipflop_3','in_flipflop_4','in_flipflop_5','out_flipflop_1','out_flipflop_2','out_flipflop_3','out_flipflop_4','out_flipflop_5','class'))\n",
    "allfeatures={}\n",
    "for fname in fnames:\n",
    "    [m_inps, m_outs, m_wires,allwires, m_gates, m_gates]=alldata[fname]\n",
    "    print('==================================='+fname+'===============================')\n",
    "    print('============================================'+'fan_in_x'+'===============================')\n",
    "    fan_in_1=FanIn_1()\n",
    "    fan_in_2=FanIn_2(fan_in_1)\n",
    "    fan_in_3=FanIn_3(fan_in_2)\n",
    "    fan_in_4=FanIn_4(fan_in_3)\n",
    "    fan_in_5=FanIn_5(fan_in_4)\n",
    "#     fan_in_6=FanIn_6(fan_in_5)\n",
    "    print('============================================'+'ff_in_x'+'===============================')\n",
    "\n",
    "    ff_in_1=FFIn_1()\n",
    "    ff_in_2=FFIn_2(ff_in_1)\n",
    "    ff_in_3=FFIn_3(ff_in_2)\n",
    "    ff_in_4=FFIn_4(ff_in_3)\n",
    "    ff_in_5=FFIn_5(ff_in_4)\n",
    "#     print('============================================'+'ff_o_x'+'===============================')\n",
    "\n",
    "#     ff_o_1=FFO_1()\n",
    "#     ff_o_2=FFO_2()\n",
    "#     ff_o_3=FFO_3()\n",
    "#     ff_o_4=FFO_4()\n",
    "#     ff_o_5=FFO_5()\n",
    "#     ff_o_6=FFO_6()\n",
    "    print('============================================'+'write featers'+'===============================')\n",
    "    for w in allwires:\n",
    "        if m_gates[w]!=[]:\n",
    "            allfeatures[fname+'\\.'+w]=[fan_in_1[w][0],fan_in_2[w][0],fan_in_3[w][0],fan_in_4[w][0],fan_in_5[w][0],ff_in_1[w][0],ff_in_2[w][0],ff_in_3[w][0],ff_in_4[w][0],ff_in_5[w][0],allwires[w]]\n",
    "#         print(fan_in_2[w][0])\n",
    "#         sheet.append((fname+'\\.'+w,fan_in_1[w][0],fan_in_2[w][0],fan_in_3[w][0],fan_in_4[w][0],fan_in_5[w][0],ff_in_1[w][0],ff_in_2[w][0],ff_in_3[w][0],ff_in_4[w][0],ff_in_5[w][0],allwires[w]))\n",
    "del alldata\n",
    "import pandas as pd\n",
    "df = pd.DataFrame(data=allfeatures)\n",
    "df.T.to_excel('allfeatures2.xlsx')\n",
    "# book.save('aesT100_800.xlsx')\n"
   ]
  },
  {
   "cell_type": "code",
   "execution_count": 5,
   "metadata": {
    "ExecuteTime": {
     "end_time": "2021-01-09T13:17:23.039645Z",
     "start_time": "2021-01-09T13:17:20.383359Z"
    }
   },
   "outputs": [],
   "source": [
    "# df_allfeatures_AEST100_1000.pickle\n",
    "import pickle\n",
    "with open('df_allfeatures_AEST100_400_900_1000.pickle', 'wb') as f:\n",
    "    pickle.dump(df, f)"
   ]
  },
  {
   "cell_type": "code",
   "execution_count": 4,
   "metadata": {
    "ExecuteTime": {
     "end_time": "2021-01-08T16:13:29.738652Z",
     "start_time": "2021-01-08T16:13:27.902262Z"
    }
   },
   "outputs": [
    {
     "ename": "NameError",
     "evalue": "name 'm_inps' is not defined",
     "output_type": "error",
     "traceback": [
      "\u001b[1;31m---------------------------------------------------------------------------\u001b[0m",
      "\u001b[1;31mNameError\u001b[0m                                 Traceback (most recent call last)",
      "\u001b[1;32m<ipython-input-4-62124209d3f8>\u001b[0m in \u001b[0;36m<module>\u001b[1;34m\u001b[0m\n\u001b[1;32m----> 1\u001b[1;33m \u001b[1;32mdel\u001b[0m \u001b[0mm_inps\u001b[0m\u001b[1;33m,\u001b[0m \u001b[0mm_outs\u001b[0m\u001b[1;33m,\u001b[0m \u001b[0mm_wires\u001b[0m\u001b[1;33m,\u001b[0m\u001b[0mallwires\u001b[0m\u001b[1;33m,\u001b[0m \u001b[0mm_gates\u001b[0m\u001b[1;33m\u001b[0m\u001b[1;33m\u001b[0m\u001b[0m\n\u001b[0m",
      "\u001b[1;31mNameError\u001b[0m: name 'm_inps' is not defined"
     ]
    }
   ],
   "source": [
    "del m_inps, m_outs, m_wires,allwires, m_gates"
   ]
  },
  {
   "cell_type": "code",
   "execution_count": 13,
   "metadata": {
    "ExecuteTime": {
     "end_time": "2021-01-09T09:57:02.955825Z",
     "start_time": "2021-01-09T09:57:02.940202Z"
    }
   },
   "outputs": [
    {
     "ename": "FileNotFoundError",
     "evalue": "[Errno 2] No such file or directory: 'df_allfeatures_AEST100_400_900_1000.pickle'",
     "output_type": "error",
     "traceback": [
      "\u001b[1;31m---------------------------------------------------------------------------\u001b[0m",
      "\u001b[1;31mFileNotFoundError\u001b[0m                         Traceback (most recent call last)",
      "\u001b[1;32m<ipython-input-13-a0f8369da9df>\u001b[0m in \u001b[0;36m<module>\u001b[1;34m\u001b[0m\n\u001b[0;32m      1\u001b[0m \u001b[1;32mimport\u001b[0m \u001b[0mpickle\u001b[0m\u001b[1;33m\u001b[0m\u001b[1;33m\u001b[0m\u001b[0m\n\u001b[1;32m----> 2\u001b[1;33m \u001b[0mdf_allfeatures\u001b[0m\u001b[1;33m=\u001b[0m \u001b[0mpickle\u001b[0m\u001b[1;33m.\u001b[0m\u001b[0mload\u001b[0m\u001b[1;33m(\u001b[0m \u001b[0mopen\u001b[0m\u001b[1;33m(\u001b[0m \u001b[1;34m'df_allfeatures_AEST100_400_900_1000.pickle'\u001b[0m\u001b[1;33m,\u001b[0m\u001b[1;34m'rb'\u001b[0m\u001b[1;33m)\u001b[0m\u001b[1;33m)\u001b[0m\u001b[1;33m\u001b[0m\u001b[1;33m\u001b[0m\u001b[0m\n\u001b[0m",
      "\u001b[1;31mFileNotFoundError\u001b[0m: [Errno 2] No such file or directory: 'df_allfeatures_AEST100_400_900_1000.pickle'"
     ]
    }
   ],
   "source": [
    "import pickle\n",
    "df= pickle.load( open( 'df_allfeatures_AEST100_400_900_1000.pickle','rb'))\n"
   ]
  },
  {
   "cell_type": "markdown",
   "metadata": {},
   "source": [
    "https://www.tutorialspoint.com/python_pandas/python_pandas_descriptive_statistics.htm"
   ]
  },
  {
   "cell_type": "code",
   "execution_count": 6,
   "metadata": {
    "ExecuteTime": {
     "end_time": "2021-01-09T13:18:32.193727Z",
     "start_time": "2021-01-09T13:18:30.912464Z"
    }
   },
   "outputs": [],
   "source": [
    "# df=df_allfeatures\n",
    "df.index=['fan_in_1','fan_in_2','fan_in_3','fan_in_4','fan_in_5','in_flipflop_1','in_flipflop_2','in_flipflop_3','in_flipflop_4','in_flipflop_5','class']"
   ]
  },
  {
   "cell_type": "code",
   "execution_count": 7,
   "metadata": {
    "ExecuteTime": {
     "end_time": "2021-01-09T13:19:27.879832Z",
     "start_time": "2021-01-09T13:19:26.707951Z"
    }
   },
   "outputs": [],
   "source": [
    "df=df.T"
   ]
  },
  {
   "cell_type": "code",
   "execution_count": 8,
   "metadata": {
    "ExecuteTime": {
     "end_time": "2021-01-09T13:19:39.144397Z",
     "start_time": "2021-01-09T13:19:38.285019Z"
    }
   },
   "outputs": [
    {
     "data": {
      "text/html": [
       "<div>\n",
       "<style scoped>\n",
       "    .dataframe tbody tr th:only-of-type {\n",
       "        vertical-align: middle;\n",
       "    }\n",
       "\n",
       "    .dataframe tbody tr th {\n",
       "        vertical-align: top;\n",
       "    }\n",
       "\n",
       "    .dataframe thead th {\n",
       "        text-align: right;\n",
       "    }\n",
       "</style>\n",
       "<table border=\"1\" class=\"dataframe\">\n",
       "  <thead>\n",
       "    <tr style=\"text-align: right;\">\n",
       "      <th></th>\n",
       "      <th>fan_in_1</th>\n",
       "      <th>fan_in_2</th>\n",
       "      <th>fan_in_3</th>\n",
       "      <th>fan_in_4</th>\n",
       "      <th>fan_in_5</th>\n",
       "      <th>in_flipflop_1</th>\n",
       "      <th>in_flipflop_2</th>\n",
       "      <th>in_flipflop_3</th>\n",
       "      <th>in_flipflop_4</th>\n",
       "      <th>in_flipflop_5</th>\n",
       "      <th>class</th>\n",
       "    </tr>\n",
       "  </thead>\n",
       "  <tbody>\n",
       "    <tr>\n",
       "      <th>AEST100\\AEST100\\._034213_</th>\n",
       "      <td>2</td>\n",
       "      <td>3</td>\n",
       "      <td>5</td>\n",
       "      <td>8</td>\n",
       "      <td>13</td>\n",
       "      <td>0</td>\n",
       "      <td>0</td>\n",
       "      <td>2</td>\n",
       "      <td>7</td>\n",
       "      <td>10</td>\n",
       "      <td>1</td>\n",
       "    </tr>\n",
       "    <tr>\n",
       "      <th>AEST900\\AEST900\\.AES.r4.s1_11</th>\n",
       "      <td>1</td>\n",
       "      <td>2</td>\n",
       "      <td>3</td>\n",
       "      <td>4</td>\n",
       "      <td>7</td>\n",
       "      <td>1</td>\n",
       "      <td>2</td>\n",
       "      <td>4</td>\n",
       "      <td>4</td>\n",
       "      <td>4</td>\n",
       "      <td>1</td>\n",
       "    </tr>\n",
       "    <tr>\n",
       "      <th>AEST700\\AEST700\\._073718_</th>\n",
       "      <td>2</td>\n",
       "      <td>8</td>\n",
       "      <td>15</td>\n",
       "      <td>22</td>\n",
       "      <td>20</td>\n",
       "      <td>0</td>\n",
       "      <td>0</td>\n",
       "      <td>0</td>\n",
       "      <td>1</td>\n",
       "      <td>10</td>\n",
       "      <td>1</td>\n",
       "    </tr>\n",
       "    <tr>\n",
       "      <th>AEST700\\AEST700\\._106164_</th>\n",
       "      <td>2</td>\n",
       "      <td>4</td>\n",
       "      <td>6</td>\n",
       "      <td>7</td>\n",
       "      <td>11</td>\n",
       "      <td>0</td>\n",
       "      <td>0</td>\n",
       "      <td>0</td>\n",
       "      <td>3</td>\n",
       "      <td>10</td>\n",
       "      <td>1</td>\n",
       "    </tr>\n",
       "    <tr>\n",
       "      <th>AEST1000\\AEST1000\\.AES.r2.t2.t2.out_27</th>\n",
       "      <td>2</td>\n",
       "      <td>4</td>\n",
       "      <td>9</td>\n",
       "      <td>23</td>\n",
       "      <td>55</td>\n",
       "      <td>1</td>\n",
       "      <td>3</td>\n",
       "      <td>4</td>\n",
       "      <td>4</td>\n",
       "      <td>4</td>\n",
       "      <td>1</td>\n",
       "    </tr>\n",
       "  </tbody>\n",
       "</table>\n",
       "</div>"
      ],
      "text/plain": [
       "                                        fan_in_1  fan_in_2  fan_in_3  \\\n",
       "AEST100\\AEST100\\._034213_                      2         3         5   \n",
       "AEST900\\AEST900\\.AES.r4.s1_11                  1         2         3   \n",
       "AEST700\\AEST700\\._073718_                      2         8        15   \n",
       "AEST700\\AEST700\\._106164_                      2         4         6   \n",
       "AEST1000\\AEST1000\\.AES.r2.t2.t2.out_27         2         4         9   \n",
       "\n",
       "                                        fan_in_4  fan_in_5  in_flipflop_1  \\\n",
       "AEST100\\AEST100\\._034213_                      8        13              0   \n",
       "AEST900\\AEST900\\.AES.r4.s1_11                  4         7              1   \n",
       "AEST700\\AEST700\\._073718_                     22        20              0   \n",
       "AEST700\\AEST700\\._106164_                      7        11              0   \n",
       "AEST1000\\AEST1000\\.AES.r2.t2.t2.out_27        23        55              1   \n",
       "\n",
       "                                        in_flipflop_2  in_flipflop_3  \\\n",
       "AEST100\\AEST100\\._034213_                           0              2   \n",
       "AEST900\\AEST900\\.AES.r4.s1_11                       2              4   \n",
       "AEST700\\AEST700\\._073718_                           0              0   \n",
       "AEST700\\AEST700\\._106164_                           0              0   \n",
       "AEST1000\\AEST1000\\.AES.r2.t2.t2.out_27              3              4   \n",
       "\n",
       "                                        in_flipflop_4  in_flipflop_5  class  \n",
       "AEST100\\AEST100\\._034213_                           7             10      1  \n",
       "AEST900\\AEST900\\.AES.r4.s1_11                       4              4      1  \n",
       "AEST700\\AEST700\\._073718_                           1             10      1  \n",
       "AEST700\\AEST700\\._106164_                           3             10      1  \n",
       "AEST1000\\AEST1000\\.AES.r2.t2.t2.out_27              4              4      1  "
      ]
     },
     "execution_count": 8,
     "metadata": {},
     "output_type": "execute_result"
    }
   ],
   "source": [
    "df.sample(frac=1).head()"
   ]
  },
  {
   "cell_type": "code",
   "execution_count": 98,
   "metadata": {
    "ExecuteTime": {
     "end_time": "2021-01-09T18:07:23.038098Z",
     "start_time": "2021-01-09T18:07:20.116197Z"
    }
   },
   "outputs": [],
   "source": [
    "del df"
   ]
  },
  {
   "cell_type": "code",
   "execution_count": 9,
   "metadata": {
    "ExecuteTime": {
     "end_time": "2021-01-09T13:19:51.166881Z",
     "start_time": "2021-01-09T13:19:49.595450Z"
    }
   },
   "outputs": [
    {
     "data": {
      "text/html": [
       "<div>\n",
       "<style scoped>\n",
       "    .dataframe tbody tr th:only-of-type {\n",
       "        vertical-align: middle;\n",
       "    }\n",
       "\n",
       "    .dataframe tbody tr th {\n",
       "        vertical-align: top;\n",
       "    }\n",
       "\n",
       "    .dataframe thead th {\n",
       "        text-align: right;\n",
       "    }\n",
       "</style>\n",
       "<table border=\"1\" class=\"dataframe\">\n",
       "  <thead>\n",
       "    <tr style=\"text-align: right;\">\n",
       "      <th></th>\n",
       "      <th>fan_in_1</th>\n",
       "      <th>fan_in_2</th>\n",
       "      <th>fan_in_3</th>\n",
       "      <th>fan_in_4</th>\n",
       "      <th>fan_in_5</th>\n",
       "      <th>in_flipflop_1</th>\n",
       "      <th>in_flipflop_2</th>\n",
       "      <th>in_flipflop_3</th>\n",
       "      <th>in_flipflop_4</th>\n",
       "      <th>in_flipflop_5</th>\n",
       "      <th>class</th>\n",
       "    </tr>\n",
       "  </thead>\n",
       "  <tbody>\n",
       "    <tr>\n",
       "      <th>count</th>\n",
       "      <td>1.158419e+06</td>\n",
       "      <td>1.158419e+06</td>\n",
       "      <td>1.158419e+06</td>\n",
       "      <td>1.158419e+06</td>\n",
       "      <td>1.158419e+06</td>\n",
       "      <td>1.158419e+06</td>\n",
       "      <td>1.158419e+06</td>\n",
       "      <td>1.158419e+06</td>\n",
       "      <td>1.158419e+06</td>\n",
       "      <td>1.158419e+06</td>\n",
       "      <td>1.158419e+06</td>\n",
       "    </tr>\n",
       "    <tr>\n",
       "      <th>mean</th>\n",
       "      <td>2.287175e+00</td>\n",
       "      <td>4.647085e+00</td>\n",
       "      <td>8.200709e+00</td>\n",
       "      <td>1.272558e+01</td>\n",
       "      <td>1.928173e+01</td>\n",
       "      <td>2.287825e-01</td>\n",
       "      <td>6.333900e-01</td>\n",
       "      <td>1.685527e+00</td>\n",
       "      <td>4.447344e+00</td>\n",
       "      <td>9.190023e+00</td>\n",
       "      <td>9.979947e-01</td>\n",
       "    </tr>\n",
       "    <tr>\n",
       "      <th>std</th>\n",
       "      <td>8.666976e-01</td>\n",
       "      <td>2.289935e+00</td>\n",
       "      <td>5.007515e+00</td>\n",
       "      <td>9.337721e+00</td>\n",
       "      <td>1.461939e+01</td>\n",
       "      <td>4.200491e-01</td>\n",
       "      <td>1.014420e+00</td>\n",
       "      <td>1.839967e+00</td>\n",
       "      <td>3.374625e+00</td>\n",
       "      <td>6.018223e+00</td>\n",
       "      <td>4.473589e-02</td>\n",
       "    </tr>\n",
       "    <tr>\n",
       "      <th>min</th>\n",
       "      <td>0.000000e+00</td>\n",
       "      <td>0.000000e+00</td>\n",
       "      <td>0.000000e+00</td>\n",
       "      <td>0.000000e+00</td>\n",
       "      <td>0.000000e+00</td>\n",
       "      <td>0.000000e+00</td>\n",
       "      <td>0.000000e+00</td>\n",
       "      <td>0.000000e+00</td>\n",
       "      <td>0.000000e+00</td>\n",
       "      <td>0.000000e+00</td>\n",
       "      <td>0.000000e+00</td>\n",
       "    </tr>\n",
       "    <tr>\n",
       "      <th>25%</th>\n",
       "      <td>2.000000e+00</td>\n",
       "      <td>3.000000e+00</td>\n",
       "      <td>4.000000e+00</td>\n",
       "      <td>7.000000e+00</td>\n",
       "      <td>1.100000e+01</td>\n",
       "      <td>0.000000e+00</td>\n",
       "      <td>0.000000e+00</td>\n",
       "      <td>0.000000e+00</td>\n",
       "      <td>1.000000e+00</td>\n",
       "      <td>5.000000e+00</td>\n",
       "      <td>1.000000e+00</td>\n",
       "    </tr>\n",
       "    <tr>\n",
       "      <th>50%</th>\n",
       "      <td>2.000000e+00</td>\n",
       "      <td>4.000000e+00</td>\n",
       "      <td>7.000000e+00</td>\n",
       "      <td>1.100000e+01</td>\n",
       "      <td>1.600000e+01</td>\n",
       "      <td>0.000000e+00</td>\n",
       "      <td>0.000000e+00</td>\n",
       "      <td>1.000000e+00</td>\n",
       "      <td>4.000000e+00</td>\n",
       "      <td>8.000000e+00</td>\n",
       "      <td>1.000000e+00</td>\n",
       "    </tr>\n",
       "    <tr>\n",
       "      <th>75%</th>\n",
       "      <td>3.000000e+00</td>\n",
       "      <td>6.000000e+00</td>\n",
       "      <td>1.100000e+01</td>\n",
       "      <td>1.600000e+01</td>\n",
       "      <td>2.300000e+01</td>\n",
       "      <td>0.000000e+00</td>\n",
       "      <td>1.000000e+00</td>\n",
       "      <td>3.000000e+00</td>\n",
       "      <td>7.000000e+00</td>\n",
       "      <td>1.300000e+01</td>\n",
       "      <td>1.000000e+00</td>\n",
       "    </tr>\n",
       "    <tr>\n",
       "      <th>max</th>\n",
       "      <td>4.000000e+00</td>\n",
       "      <td>1.300000e+01</td>\n",
       "      <td>3.100000e+01</td>\n",
       "      <td>7.300000e+01</td>\n",
       "      <td>1.120000e+02</td>\n",
       "      <td>1.000000e+00</td>\n",
       "      <td>4.000000e+00</td>\n",
       "      <td>9.000000e+00</td>\n",
       "      <td>2.000000e+01</td>\n",
       "      <td>3.800000e+01</td>\n",
       "      <td>1.000000e+00</td>\n",
       "    </tr>\n",
       "  </tbody>\n",
       "</table>\n",
       "</div>"
      ],
      "text/plain": [
       "           fan_in_1      fan_in_2      fan_in_3      fan_in_4      fan_in_5  \\\n",
       "count  1.158419e+06  1.158419e+06  1.158419e+06  1.158419e+06  1.158419e+06   \n",
       "mean   2.287175e+00  4.647085e+00  8.200709e+00  1.272558e+01  1.928173e+01   \n",
       "std    8.666976e-01  2.289935e+00  5.007515e+00  9.337721e+00  1.461939e+01   \n",
       "min    0.000000e+00  0.000000e+00  0.000000e+00  0.000000e+00  0.000000e+00   \n",
       "25%    2.000000e+00  3.000000e+00  4.000000e+00  7.000000e+00  1.100000e+01   \n",
       "50%    2.000000e+00  4.000000e+00  7.000000e+00  1.100000e+01  1.600000e+01   \n",
       "75%    3.000000e+00  6.000000e+00  1.100000e+01  1.600000e+01  2.300000e+01   \n",
       "max    4.000000e+00  1.300000e+01  3.100000e+01  7.300000e+01  1.120000e+02   \n",
       "\n",
       "       in_flipflop_1  in_flipflop_2  in_flipflop_3  in_flipflop_4  \\\n",
       "count   1.158419e+06   1.158419e+06   1.158419e+06   1.158419e+06   \n",
       "mean    2.287825e-01   6.333900e-01   1.685527e+00   4.447344e+00   \n",
       "std     4.200491e-01   1.014420e+00   1.839967e+00   3.374625e+00   \n",
       "min     0.000000e+00   0.000000e+00   0.000000e+00   0.000000e+00   \n",
       "25%     0.000000e+00   0.000000e+00   0.000000e+00   1.000000e+00   \n",
       "50%     0.000000e+00   0.000000e+00   1.000000e+00   4.000000e+00   \n",
       "75%     0.000000e+00   1.000000e+00   3.000000e+00   7.000000e+00   \n",
       "max     1.000000e+00   4.000000e+00   9.000000e+00   2.000000e+01   \n",
       "\n",
       "       in_flipflop_5         class  \n",
       "count   1.158419e+06  1.158419e+06  \n",
       "mean    9.190023e+00  9.979947e-01  \n",
       "std     6.018223e+00  4.473589e-02  \n",
       "min     0.000000e+00  0.000000e+00  \n",
       "25%     5.000000e+00  1.000000e+00  \n",
       "50%     8.000000e+00  1.000000e+00  \n",
       "75%     1.300000e+01  1.000000e+00  \n",
       "max     3.800000e+01  1.000000e+00  "
      ]
     },
     "execution_count": 9,
     "metadata": {},
     "output_type": "execute_result"
    }
   ],
   "source": [
    "df.describe()"
   ]
  },
  {
   "cell_type": "code",
   "execution_count": 10,
   "metadata": {
    "ExecuteTime": {
     "end_time": "2021-01-09T13:20:15.005707Z",
     "start_time": "2021-01-09T13:20:01.427245Z"
    },
    "scrolled": false
   },
   "outputs": [
    {
     "data": {
      "text/plain": [
       "class\n",
       "0    AxesSubplot(0.125,0.125;0.775x0.755)\n",
       "1    AxesSubplot(0.125,0.125;0.775x0.755)\n",
       "Name: fan_in_5, dtype: object"
      ]
     },
     "execution_count": 10,
     "metadata": {},
     "output_type": "execute_result"
    },
    {
     "data": {
      "image/png": "[encoded data removed]",
      "text/plain": [
       "<Figure size 432x288 with 1 Axes>"
      ]
     },
     "metadata": {
      "needs_background": "light"
     },
     "output_type": "display_data"
    }
   ],
   "source": [
    "df.groupby('class').fan_in_5.hist(alpha=0.8)"
   ]
  },
  {
   "cell_type": "code",
   "execution_count": 11,
   "metadata": {
    "ExecuteTime": {
     "end_time": "2021-01-09T13:20:25.527497Z",
     "start_time": "2021-01-09T13:20:25.480570Z"
    }
   },
   "outputs": [
    {
     "name": "stdout",
     "output_type": "stream",
     "text": [
      "class\n",
      "0       2323\n",
      "1    1156096\n",
      "dtype: int64\n"
     ]
    }
   ],
   "source": [
    "class_counts = df.groupby('class').size()\n",
    "print(class_counts)\n"
   ]
  },
  {
   "cell_type": "code",
   "execution_count": 13,
   "metadata": {
    "ExecuteTime": {
     "end_time": "2021-01-09T13:21:42.343051Z",
     "start_time": "2021-01-09T13:21:42.061750Z"
    }
   },
   "outputs": [
    {
     "data": {
      "text/plain": [
       "1    2323\n",
       "0    2323\n",
       "Name: class, dtype: int64"
      ]
     },
     "execution_count": 13,
     "metadata": {},
     "output_type": "execute_result"
    }
   ],
   "source": [
    "from sklearn.utils import resample\n",
    "import pandas as pd\n",
    "df_0 = df[df['class']==0]\n",
    "df_1 = df[df['class']==1]\n",
    " \n",
    "# Downsample majority class\n",
    "df_1_downsampled = resample(df_1,replace=False,n_samples=class_counts[0], random_state=123)\n",
    "\n",
    "df_downsampled = pd.concat([df_1_downsampled, df_0])\n",
    " \n",
    "# Display new class counts\n",
    "df_downsampled['class'].value_counts()\n"
   ]
  },
  {
   "cell_type": "code",
   "execution_count": 14,
   "metadata": {
    "ExecuteTime": {
     "end_time": "2021-01-09T13:21:52.196011Z",
     "start_time": "2021-01-09T13:21:52.168312Z"
    }
   },
   "outputs": [
    {
     "data": {
      "text/html": [
       "<div>\n",
       "<style scoped>\n",
       "    .dataframe tbody tr th:only-of-type {\n",
       "        vertical-align: middle;\n",
       "    }\n",
       "\n",
       "    .dataframe tbody tr th {\n",
       "        vertical-align: top;\n",
       "    }\n",
       "\n",
       "    .dataframe thead th {\n",
       "        text-align: right;\n",
       "    }\n",
       "</style>\n",
       "<table border=\"1\" class=\"dataframe\">\n",
       "  <thead>\n",
       "    <tr style=\"text-align: right;\">\n",
       "      <th></th>\n",
       "      <th>fan_in_1</th>\n",
       "      <th>fan_in_2</th>\n",
       "      <th>fan_in_3</th>\n",
       "      <th>fan_in_4</th>\n",
       "      <th>fan_in_5</th>\n",
       "      <th>in_flipflop_1</th>\n",
       "      <th>in_flipflop_2</th>\n",
       "      <th>in_flipflop_3</th>\n",
       "      <th>in_flipflop_4</th>\n",
       "      <th>in_flipflop_5</th>\n",
       "      <th>class</th>\n",
       "    </tr>\n",
       "  </thead>\n",
       "  <tbody>\n",
       "    <tr>\n",
       "      <th>AEST900\\AEST900\\._043881_</th>\n",
       "      <td>2</td>\n",
       "      <td>4</td>\n",
       "      <td>7</td>\n",
       "      <td>13</td>\n",
       "      <td>35</td>\n",
       "      <td>1</td>\n",
       "      <td>3</td>\n",
       "      <td>4</td>\n",
       "      <td>4</td>\n",
       "      <td>4</td>\n",
       "      <td>1</td>\n",
       "    </tr>\n",
       "    <tr>\n",
       "      <th>AEST1000\\AEST1000\\._173171_</th>\n",
       "      <td>2</td>\n",
       "      <td>6</td>\n",
       "      <td>7</td>\n",
       "      <td>11</td>\n",
       "      <td>12</td>\n",
       "      <td>0</td>\n",
       "      <td>0</td>\n",
       "      <td>0</td>\n",
       "      <td>0</td>\n",
       "      <td>7</td>\n",
       "      <td>1</td>\n",
       "    </tr>\n",
       "    <tr>\n",
       "      <th>AEST900\\AEST900\\.Trojan.lfsr.lfsr_1</th>\n",
       "      <td>2</td>\n",
       "      <td>4</td>\n",
       "      <td>5</td>\n",
       "      <td>6</td>\n",
       "      <td>9</td>\n",
       "      <td>1</td>\n",
       "      <td>3</td>\n",
       "      <td>3</td>\n",
       "      <td>6</td>\n",
       "      <td>11</td>\n",
       "      <td>0</td>\n",
       "    </tr>\n",
       "    <tr>\n",
       "      <th>AEST700\\AEST700\\._079936_</th>\n",
       "      <td>2</td>\n",
       "      <td>6</td>\n",
       "      <td>11</td>\n",
       "      <td>20</td>\n",
       "      <td>22</td>\n",
       "      <td>0</td>\n",
       "      <td>0</td>\n",
       "      <td>0</td>\n",
       "      <td>0</td>\n",
       "      <td>6</td>\n",
       "      <td>1</td>\n",
       "    </tr>\n",
       "    <tr>\n",
       "      <th>AEST1000\\AEST1000\\.AES.r2.key_86</th>\n",
       "      <td>1</td>\n",
       "      <td>1</td>\n",
       "      <td>2</td>\n",
       "      <td>4</td>\n",
       "      <td>7</td>\n",
       "      <td>1</td>\n",
       "      <td>2</td>\n",
       "      <td>2</td>\n",
       "      <td>4</td>\n",
       "      <td>8</td>\n",
       "      <td>1</td>\n",
       "    </tr>\n",
       "  </tbody>\n",
       "</table>\n",
       "</div>"
      ],
      "text/plain": [
       "                                     fan_in_1  fan_in_2  fan_in_3  fan_in_4  \\\n",
       "AEST900\\AEST900\\._043881_                   2         4         7        13   \n",
       "AEST1000\\AEST1000\\._173171_                 2         6         7        11   \n",
       "AEST900\\AEST900\\.Trojan.lfsr.lfsr_1         2         4         5         6   \n",
       "AEST700\\AEST700\\._079936_                   2         6        11        20   \n",
       "AEST1000\\AEST1000\\.AES.r2.key_86            1         1         2         4   \n",
       "\n",
       "                                     fan_in_5  in_flipflop_1  in_flipflop_2  \\\n",
       "AEST900\\AEST900\\._043881_                  35              1              3   \n",
       "AEST1000\\AEST1000\\._173171_                12              0              0   \n",
       "AEST900\\AEST900\\.Trojan.lfsr.lfsr_1         9              1              3   \n",
       "AEST700\\AEST700\\._079936_                  22              0              0   \n",
       "AEST1000\\AEST1000\\.AES.r2.key_86            7              1              2   \n",
       "\n",
       "                                     in_flipflop_3  in_flipflop_4  \\\n",
       "AEST900\\AEST900\\._043881_                        4              4   \n",
       "AEST1000\\AEST1000\\._173171_                      0              0   \n",
       "AEST900\\AEST900\\.Trojan.lfsr.lfsr_1              3              6   \n",
       "AEST700\\AEST700\\._079936_                        0              0   \n",
       "AEST1000\\AEST1000\\.AES.r2.key_86                 2              4   \n",
       "\n",
       "                                     in_flipflop_5  class  \n",
       "AEST900\\AEST900\\._043881_                        4      1  \n",
       "AEST1000\\AEST1000\\._173171_                      7      1  \n",
       "AEST900\\AEST900\\.Trojan.lfsr.lfsr_1             11      0  \n",
       "AEST700\\AEST700\\._079936_                        6      1  \n",
       "AEST1000\\AEST1000\\.AES.r2.key_86                 8      1  "
      ]
     },
     "execution_count": 14,
     "metadata": {},
     "output_type": "execute_result"
    }
   ],
   "source": [
    "df_downsampled.sample(frac=1).head()"
   ]
  },
  {
   "cell_type": "code",
   "execution_count": 99,
   "metadata": {
    "ExecuteTime": {
     "end_time": "2021-01-09T18:22:49.657931Z",
     "start_time": "2021-01-09T18:22:47.977008Z"
    }
   },
   "outputs": [
    {
     "name": "stdout",
     "output_type": "stream",
     "text": [
      "fan_in_1         int64\n",
      "fan_in_2         int64\n",
      "fan_in_3         int64\n",
      "fan_in_4         int64\n",
      "fan_in_5         int64\n",
      "in_flipflop_1    int64\n",
      "in_flipflop_2    int64\n",
      "in_flipflop_3    int64\n",
      "in_flipflop_4    int64\n",
      "in_flipflop_5    int64\n",
      "class            int64\n",
      "dtype: object\n"
     ]
    }
   ],
   "source": [
    "print(df_downsampled.dtypes)"
   ]
  },
  {
   "cell_type": "code",
   "execution_count": 85,
   "metadata": {
    "ExecuteTime": {
     "end_time": "2021-01-09T16:54:33.828436Z",
     "start_time": "2021-01-09T16:54:31.734654Z"
    }
   },
   "outputs": [
    {
     "data": {
      "text/plain": [
       "Text(0.5, 0.98, 'in_flipflop_5')"
      ]
     },
     "execution_count": 85,
     "metadata": {},
     "output_type": "execute_result"
    },
    {
     "data": {
      "image/png": "[encoded data removed]",
      "text/plain": [
       "<Figure size 720x360 with 2 Axes>"
      ]
     },
     "metadata": {
      "needs_background": "light"
     },
     "output_type": "display_data"
    }
   ],
   "source": [
    "import matplotlib.pyplot as plt\n",
    "# axes = plt.axes()\n",
    "# axes.set_ylim([0, 1200])\n",
    "fig, ax = plt.subplots(1, 2, sharex='col', sharey='row', figsize=(10, 5))\n",
    "plt.ylim([0,1200])\n",
    "# plt.xlim([0,30])\n",
    "df_downsampled.in_flipflop_5[df_downsampled['class'] == 1].hist(bins=30,ax=ax[0])\n",
    "df_downsampled.in_flipflop_5[df_downsampled['class'] == 0].hist(bins=30,ax=ax[1])\n",
    "ax[0].set_title('Normal')\n",
    "ax[1].set_title('Trojan')\n",
    "fig.suptitle('in_flipflop_5')"
   ]
  },
  {
   "cell_type": "code",
   "execution_count": 86,
   "metadata": {
    "ExecuteTime": {
     "end_time": "2021-01-09T16:55:14.861414Z",
     "start_time": "2021-01-09T16:55:12.705093Z"
    }
   },
   "outputs": [
    {
     "data": {
      "text/plain": [
       "Text(0.5, 0.98, 'in_flipflop_4')"
      ]
     },
     "execution_count": 86,
     "metadata": {},
     "output_type": "execute_result"
    },
    {
     "data": {
      "image/png": "[encoded data removed]",
      "text/plain": [
       "<Figure size 720x360 with 2 Axes>"
      ]
     },
     "metadata": {
      "needs_background": "light"
     },
     "output_type": "display_data"
    }
   ],
   "source": [
    "import matplotlib.pyplot as plt\n",
    "# axes = plt.axes()\n",
    "# axes.set_ylim([0, 1200])\n",
    "fig, ax = plt.subplots(1, 2, sharex='col', sharey='row', figsize=(10, 5))\n",
    "plt.ylim([0,1200])\n",
    "# plt.xlim([0,30])\n",
    "df_downsampled.in_flipflop_4[df_downsampled['class'] == 1].hist(bins=30,ax=ax[0])\n",
    "df_downsampled.in_flipflop_4[df_downsampled['class'] == 0].hist(bins=30,ax=ax[1])\n",
    "ax[0].set_title('Normal')\n",
    "ax[1].set_title('Trojan')\n",
    "fig.suptitle('in_flipflop_4')\n"
   ]
  },
  {
   "cell_type": "code",
   "execution_count": 87,
   "metadata": {
    "ExecuteTime": {
     "end_time": "2021-01-09T16:55:49.049888Z",
     "start_time": "2021-01-09T16:55:42.440454Z"
    }
   },
   "outputs": [
    {
     "data": {
      "text/plain": [
       "Text(0.5, 0.98, 'in_flipflop_3')"
      ]
     },
     "execution_count": 87,
     "metadata": {},
     "output_type": "execute_result"
    },
    {
     "data": {
      "image/png": "[encoded data removed]",
      "text/plain": [
       "<Figure size 720x360 with 2 Axes>"
      ]
     },
     "metadata": {
      "needs_background": "light"
     },
     "output_type": "display_data"
    }
   ],
   "source": [
    "import matplotlib.pyplot as plt\n",
    "# axes = plt.axes()\n",
    "# axes.set_ylim([0, 1200])\n",
    "fig, ax = plt.subplots(1, 2, sharex='col', sharey='row', figsize=(10, 5))\n",
    "plt.ylim([0,1200])\n",
    "# plt.xlim([0,30])\n",
    "df_downsampled.in_flipflop_3[df_downsampled['class'] == 1].hist(bins=30,ax=ax[0])\n",
    "df_downsampled.in_flipflop_3[df_downsampled['class'] == 0].hist(bins=30,ax=ax[1])\n",
    "ax[0].set_title('Normal')\n",
    "ax[1].set_title('Trojan')\n",
    "fig.suptitle('in_flipflop_3')\n"
   ]
  },
  {
   "cell_type": "code",
   "execution_count": 97,
   "metadata": {
    "ExecuteTime": {
     "end_time": "2021-01-09T18:03:01.823493Z",
     "start_time": "2021-01-09T18:02:59.721974Z"
    }
   },
   "outputs": [
    {
     "data": {
      "text/plain": [
       "Text(0.5, 0.98, 'in_flipflop_2')"
      ]
     },
     "execution_count": 97,
     "metadata": {},
     "output_type": "execute_result"
    },
    {
     "data": {
      "image/png": "[encoded data removed]",
      "text/plain": [
       "<Figure size 720x360 with 2 Axes>"
      ]
     },
     "metadata": {
      "needs_background": "light"
     },
     "output_type": "display_data"
    }
   ],
   "source": [
    "import matplotlib.pyplot as plt\n",
    "# axes = plt.axes()\n",
    "# axes.set_ylim([0, 1200])\n",
    "fig, ax = plt.subplots(1, 2, sharex='col', sharey='row', figsize=(10, 5))\n",
    "plt.ylim([0,2000])\n",
    "# plt.xlim([0,30])\n",
    "df_downsampled.in_flipflop_2[df_downsampled['class'] == 1].hist(bins=30,ax=ax[0])\n",
    "df_downsampled.in_flipflop_2[df_downsampled['class'] == 0].hist(bins=30,ax=ax[1])\n",
    "ax[0].set_title('Normal')\n",
    "ax[1].set_title('Trojan')\n",
    "fig.suptitle('in_flipflop_2')"
   ]
  },
  {
   "cell_type": "code",
   "execution_count": 89,
   "metadata": {
    "ExecuteTime": {
     "end_time": "2021-01-09T17:52:56.990871Z",
     "start_time": "2021-01-09T17:52:49.296302Z"
    }
   },
   "outputs": [
    {
     "data": {
      "text/plain": [
       "Text(0.5, 0.98, 'fan_in_5')"
      ]
     },
     "execution_count": 89,
     "metadata": {},
     "output_type": "execute_result"
    },
    {
     "data": {
      "image/png": "[encoded data removed]",
      "text/plain": [
       "<Figure size 720x360 with 2 Axes>"
      ]
     },
     "metadata": {
      "needs_background": "light"
     },
     "output_type": "display_data"
    }
   ],
   "source": [
    "import matplotlib.pyplot as plt\n",
    "# axes = plt.axes()\n",
    "# axes.set_ylim([0, 1200])\n",
    "fig, ax = plt.subplots(1, 2, sharex='col', sharey='row', figsize=(10, 5))\n",
    "plt.ylim([0,1200])\n",
    "# plt.xlim([0,30])\n",
    "df_downsampled.fan_in_5[df_downsampled['class'] == 1].hist(bins=30,ax=ax[0])\n",
    "df_downsampled.fan_in_5[df_downsampled['class'] == 0].hist(bins=30,ax=ax[1])\n",
    "ax[0].set_title('Normal')\n",
    "ax[1].set_title('Trojan')\n",
    "fig.suptitle('fan_in_5')"
   ]
  },
  {
   "cell_type": "code",
   "execution_count": 95,
   "metadata": {
    "ExecuteTime": {
     "end_time": "2021-01-09T18:01:47.840722Z",
     "start_time": "2021-01-09T18:01:38.497466Z"
    }
   },
   "outputs": [
    {
     "data": {
      "text/plain": [
       "Text(0.5, 0.98, 'fan_in_4')"
      ]
     },
     "execution_count": 95,
     "metadata": {},
     "output_type": "execute_result"
    },
    {
     "data": {
      "image/png": "[encoded data removed]",
      "text/plain": [
       "<Figure size 720x360 with 2 Axes>"
      ]
     },
     "metadata": {
      "needs_background": "light"
     },
     "output_type": "display_data"
    }
   ],
   "source": [
    "import matplotlib.pyplot as plt\n",
    "# axes = plt.axes()\n",
    "# axes.set_ylim([0, 1200])\n",
    "fig, ax = plt.subplots(1, 2, sharex='col', sharey='row', figsize=(10, 5))\n",
    "plt.ylim([0,1500])\n",
    "# plt.xlim([0,30])\n",
    "df_downsampled.fan_in_4[df_downsampled['class'] == 1].hist(bins=30,ax=ax[0])\n",
    "df_downsampled.fan_in_4[df_downsampled['class'] == 0].hist(bins=30,ax=ax[1])\n",
    "ax[0].set_title('Normal')\n",
    "ax[1].set_title('Trojan')\n",
    "fig.suptitle('fan_in_4')"
   ]
  },
  {
   "cell_type": "code",
   "execution_count": 94,
   "metadata": {
    "ExecuteTime": {
     "end_time": "2021-01-09T18:01:23.525801Z",
     "start_time": "2021-01-09T18:01:21.905419Z"
    }
   },
   "outputs": [
    {
     "data": {
      "text/plain": [
       "Text(0.5, 0.98, 'fan_in_3')"
      ]
     },
     "execution_count": 94,
     "metadata": {},
     "output_type": "execute_result"
    },
    {
     "data": {
      "image/png": "[encoded data removed]",
      "text/plain": [
       "<Figure size 720x360 with 2 Axes>"
      ]
     },
     "metadata": {
      "needs_background": "light"
     },
     "output_type": "display_data"
    }
   ],
   "source": [
    "import matplotlib.pyplot as plt\n",
    "# axes = plt.axes()\n",
    "# axes.set_ylim([0, 1200])\n",
    "fig, ax = plt.subplots(1, 2, sharex='col', sharey='row', figsize=(10, 5))\n",
    "plt.ylim([0,1500])\n",
    "# plt.xlim([0,30])\n",
    "df_downsampled.fan_in_3[df_downsampled['class'] == 1].hist(bins=30,ax=ax[0])\n",
    "df_downsampled.fan_in_3[df_downsampled['class'] == 0].hist(bins=30,ax=ax[1])\n",
    "ax[0].set_title('Normal')\n",
    "ax[1].set_title('Trojan')\n",
    "fig.suptitle('fan_in_3')"
   ]
  },
  {
   "cell_type": "code",
   "execution_count": 93,
   "metadata": {
    "ExecuteTime": {
     "end_time": "2021-01-09T18:00:52.333800Z",
     "start_time": "2021-01-09T18:00:50.315825Z"
    }
   },
   "outputs": [
    {
     "data": {
      "text/plain": [
       "Text(0.5, 0.98, 'fan_in_2')"
      ]
     },
     "execution_count": 93,
     "metadata": {},
     "output_type": "execute_result"
    },
    {
     "data": {
      "image/png": "[encoded data removed]",
      "text/plain": [
       "<Figure size 720x360 with 2 Axes>"
      ]
     },
     "metadata": {
      "needs_background": "light"
     },
     "output_type": "display_data"
    }
   ],
   "source": [
    "import matplotlib.pyplot as plt\n",
    "# axes = plt.axes()\n",
    "# axes.set_ylim([0, 1200])\n",
    "fig, ax = plt.subplots(1, 2, sharex='col', sharey='row', figsize=(10, 5))\n",
    "plt.ylim([0,2000])\n",
    "# plt.xlim([0,30])\n",
    "df_downsampled.fan_in_2[df_downsampled['class'] == 1].hist(bins=30,ax=ax[0])\n",
    "df_downsampled.fan_in_2[df_downsampled['class'] == 0].hist(bins=30,ax=ax[1])\n",
    "ax[0].set_title('Normal')\n",
    "ax[1].set_title('Trojan')\n",
    "fig.suptitle('fan_in_2')"
   ]
  },
  {
   "cell_type": "code",
   "execution_count": 48,
   "metadata": {
    "ExecuteTime": {
     "end_time": "2021-01-08T20:03:13.519685Z",
     "start_time": "2021-01-08T20:03:12.809148Z"
    }
   },
   "outputs": [
    {
     "data": {
      "text/plain": [
       "<matplotlib.axes._subplots.AxesSubplot at 0xda0e8cfb50>"
      ]
     },
     "execution_count": 48,
     "metadata": {},
     "output_type": "execute_result"
    },
    {
     "data": {
      "image/png": "[encoded data removed]",
      "text/plain": [
       "<Figure size 432x288 with 1 Axes>"
      ]
     },
     "metadata": {
      "needs_background": "light"
     },
     "output_type": "display_data"
    }
   ],
   "source": [
    "df_downsampled.in_flipflop_5[df_downsampled['class'] == 1].hist(bins=100)\n"
   ]
  },
  {
   "cell_type": "code",
   "execution_count": 49,
   "metadata": {
    "ExecuteTime": {
     "end_time": "2021-01-08T20:04:08.083302Z",
     "start_time": "2021-01-08T20:04:07.526941Z"
    },
    "scrolled": false
   },
   "outputs": [
    {
     "data": {
      "text/plain": [
       "<matplotlib.axes._subplots.AxesSubplot at 0xda0f34d550>"
      ]
     },
     "execution_count": 49,
     "metadata": {},
     "output_type": "execute_result"
    },
    {
     "data": {
      "image/png": "[encoded data removed]",
      "text/plain": [
       "<Figure size 432x288 with 1 Axes>"
      ]
     },
     "metadata": {
      "needs_background": "light"
     },
     "output_type": "display_data"
    }
   ],
   "source": [
    "df_downsampled.in_flipflop_5[df_downsampled['class'] == 0].hist(bins=100)"
   ]
  },
  {
   "cell_type": "code",
   "execution_count": null,
   "metadata": {
    "ExecuteTime": {
     "end_time": "2021-01-03T20:21:49.287513Z",
     "start_time": "2021-01-03T20:21:49.162566Z"
    }
   },
   "outputs": [],
   "source": [
    "jupyter notebook --NotebookApp.iopub_data_rate_limit=1.0e10"
   ]
  },
  {
   "cell_type": "code",
   "execution_count": null,
   "metadata": {},
   "outputs": [],
   "source": [
    "!pip install openpyxl"
   ]
  },
  {
   "cell_type": "code",
   "execution_count": null,
   "metadata": {
    "ExecuteTime": {
     "start_time": "2021-01-06T12:54:32.731Z"
    }
   },
   "outputs": [],
   "source": [
    "from openpyxl import Workbook\n",
    "book = Workbook()\n",
    "sheet = book.active\n",
    "sheet.append(('wire','fan_in_2','fan_in_3','fan_in_4','fan_in_5','in_flipflop_1','in_flipflop_2','in_flipflop_3','in_flipflop_4','in_flipflop_5','out_flipflop_1','out_flipflop_2','out_flipflop_3','out_flipflop_4','out_flipflop_5','class'))\n",
    "for w in allwires:\n",
    "    sheet.append((w,fan_in_2[w][0],fan_in_3[w][0],fan_in_4[w][0],fan_in_5[w][0],ff_in_1[w][0],ff_in_2[w][0],ff_in_3[w][0],ff_in_4[w][0],ff_in_5[w][0],FFO_1([w])[0],FFO_2([w])[0],FFO_3([w])[0],FFO_4([w])[0],FFO_5([w])[0],allwires[w]))\n",
    "book.save('aesT100.xlsx')"
   ]
  },
  {
   "cell_type": "markdown",
   "metadata": {},
   "source": []
  },
  {
   "cell_type": "markdown",
   "metadata": {
    "heading_collapsed": true
   },
   "source": [
    "# debuge assign statements"
   ]
  },
  {
   "cell_type": "markdown",
   "metadata": {
    "hidden": true
   },
   "source": [
    "wire [7:0] a;\n",
    "wire [7:0] b;\n",
    "wire [3:0] c;\n",
    "wire [1:0] d;\n",
    "wire [7:0] e;\n",
    "\n",
    "assign c=b[7:4];                                ok\n",
    "assign c={a[1:0],b[1:0]};                       ok\n",
    "assign {c[2],c[1],c[0]}={a[7],b[1:0]};          ok\n",
    "assign {c[2],c[1],c[0]}={a[7],b[1],b[0]};       ok\n",
    "assign e={a[1:0],b[1:0],c[1:0],d}\n",
    "assign a=b;                                     ok\n"
   ]
  },
  {
   "cell_type": "code",
   "execution_count": null,
   "metadata": {
    "ExecuteTime": {
     "end_time": "2020-12-31T18:08:47.141625Z",
     "start_time": "2020-12-31T18:08:47.137639Z"
    },
    "code_folding": [
     0
    ],
    "hidden": true
   },
   "outputs": [],
   "source": [
    "lines=[\"wire [7:0] Trojan.a;\",\"wire [7:0] b;\",\"wire [3:0] c;\",\"wire [1:0] d;\",\"wire [7:0] e;\",\"assign e={a[1:0],b[1:0],c[1:0],d}\",\"assign c=b[7:4];\",\"assign c={a[1:0],b[1:0]}; \",\n",
    "       \"assign {c[2],c[1],c[0]}={a[7],b[1:0]};\",\"assign {c[2],c[1],c[0]}={a[7],b[1],b[0]};\",\"assign a=b;  \"]"
   ]
  },
  {
   "cell_type": "code",
   "execution_count": null,
   "metadata": {
    "ExecuteTime": {
     "end_time": "2020-12-31T18:09:13.941564Z",
     "start_time": "2020-12-31T18:09:13.848498Z"
    },
    "code_folding": [
     0
    ],
    "hidden": true
   },
   "outputs": [],
   "source": [
    "def unpackArray(s):\n",
    "    import re\n",
    "    lst = []\n",
    "    pattern = \"\\[(.*?)\\]\"\n",
    "    ss = re.search(pattern, s)\n",
    "    #print(ss)\n",
    "    if ss:\n",
    "        l = ss.group(1).split(':')\n",
    "        #print(l[0])\n",
    "        if len(l) > 1:\n",
    "            left = int(l[0])\n",
    "            right = int(l[1])\n",
    "            if left > right:\n",
    "                for i in range(left, right - 1, -1):\n",
    "                    lst.append(s.strip().split('[')[0].strip() + \"_\" +\n",
    "                               str(i).strip())\n",
    "            else:\n",
    "                for i in range(left, right + 1, 1):\n",
    "                    lst.append(s.strip().split('[')[0].strip() + \"_\" +\n",
    "                               str(i).strip())\n",
    "        else:\n",
    "            lst.append(s.strip().split('[')[0].strip() + \"_\" +\n",
    "                       str(l[0]).strip())\n",
    "    else:\n",
    "        #m = re.search(r'_\\d+$', s)\n",
    "       # print(s)\n",
    "        #if m is not None:\n",
    "        for w in m_wires:\n",
    "            #print(w.rsplit('_',1)[0])\n",
    "            if w.rsplit('_',1)[0]==s or w==s:\n",
    "                lst.append(w)\n",
    "        #lst.append(s)\n",
    "    return lst\n",
    "print(unpackArray('d'))\n",
    "#print(m_wires)"
   ]
  },
  {
   "cell_type": "code",
   "execution_count": null,
   "metadata": {
    "ExecuteTime": {
     "end_time": "2020-12-31T18:39:00.246585Z",
     "start_time": "2020-12-31T18:39:00.233590Z"
    },
    "code_folding": [
     0
    ],
    "hidden": true
   },
   "outputs": [],
   "source": [
    "def parse_wires(lines):\n",
    "    m_wires=[]\n",
    "    allwires={}\n",
    "    for line in lines:\n",
    "        if \"wire\" in line.lower() or \"input\" in line.lower() or \"output\" in line.lower():\n",
    "          if line.find('[')>=0:\n",
    "            s3=line.strip().split()\n",
    "            s=s3[1][1:len(s3[1])].split(':')[0]\n",
    "            e=s3[1][1:len(s3[1])].split(':')[1].split(']')[0]\n",
    "            sname=line.strip().split(']')[1][0:len(line.strip().split(']')[1])-1]\n",
    "            for i in range(int(e),int(s)+1):\n",
    "              m_wires.append(sname.strip()+'_'+str(i))\n",
    "              if 'Trojan' in sname.strip()+'_'+str(i):\n",
    "                allwires[sname.strip()+'_'+str(i)]=0\n",
    "              else:\n",
    "                allwires[sname.strip()+'_'+str(i)]=1\n",
    "          else:\n",
    "            s=line.strip().split()[1][0:len(line.strip().split()[1])]\n",
    "            m_wires.append(s)#+=line.split()[1][0:len(line.split()[1])-1]\n",
    "            if 'Trojan' in s:\n",
    "                allwires[s]=0\n",
    "            else:\n",
    "                allwires[s]=1\n",
    "          continue\n",
    "    return [m_wires,allwires]"
   ]
  },
  {
   "cell_type": "code",
   "execution_count": null,
   "metadata": {
    "ExecuteTime": {
     "end_time": "2020-12-31T18:11:26.629444Z",
     "start_time": "2020-12-31T18:11:26.616433Z"
    },
    "code_folding": [
     1,
     30
    ],
    "hidden": true,
    "run_control": {
     "marked": false
    }
   },
   "outputs": [],
   "source": [
    "[m_wires,allwires]=parse_wires(lines)\n",
    "def procAssigns(line):\n",
    "    gtype=\"assign\"\n",
    "    gcellload=0\n",
    "    inps=[]\n",
    "    outs=[]\n",
    "    pattern = \"\\{(.*?)\\}\"\n",
    "    left=[]\n",
    "    right=[]\n",
    "    inps=[]\n",
    "    outs=[]\n",
    "    if re.search(pattern,line.split('=')[0].strip()):# Checks if the left side is in {a,b,...} format. \n",
    "      s=re.search(pattern,line.split('=')[0].strip())\n",
    "      for ss in s.group(1).split(','):\n",
    "        left+=unpackArray(ss)\n",
    "    else:\n",
    "      left+=unpackArray(line.split('=')[0].strip().split(' ',1)[1])\n",
    "    if re.search(pattern,line.split('=')[1].strip()):# Checks if the right side is in {a,b,...} format.\n",
    "      s=re.search(pattern,line.split('=')[1].strip())\n",
    "      for ss in s.group(1).split(','):\n",
    "        right+=unpackArray(ss.split(';')[0])\n",
    "    else:\n",
    "      right+=unpackArray(line.split('=')[1].strip().split(';')[0])\n",
    "    inps+=right\n",
    "    outs+=left    \n",
    "    g=[]\n",
    "    print(inps,outs)\n",
    "    for i in range(len(inps)):\n",
    "        g+=[Gate(\"\",gtype,[inps[i]],[outs[i]],gcellload)]\n",
    "    return g\n",
    "def parse_asignments(lines):\n",
    "    g=[]\n",
    "    for line in lines:\n",
    "        if 'assign'  in line.lower():\n",
    "            print (line)\n",
    "            g+=procAssigns(line)\n",
    "    return g\n"
   ]
  },
  {
   "cell_type": "code",
   "execution_count": null,
   "metadata": {
    "ExecuteTime": {
     "end_time": "2020-12-31T17:38:14.051170Z",
     "start_time": "2020-12-31T17:38:14.025151Z"
    },
    "code_folding": [
     0,
     45
    ],
    "hidden": true
   },
   "outputs": [],
   "source": [
    "StdCells = [\n",
    "    \"INVX0\", \"INVX1\", \"INVX2\", \"INVX4\", \"INVX8\", \"INVX16\", \"INVX32\", \"IBUFFX2\",\n",
    "    \"IBUFFX4\", \"IBUFFX8\", \"IBUFFX16\", \"IBUFFX32\", \"NBUFFX2\", \"NBUFFX4\",\n",
    "    \"NBUFFX8\", \"NBUFFX16\", \"NBUFFX32\", \"TNBUFFX1\", \"TNBUFFX2\", \"TNBUFFX4\",\n",
    "    \"TNBUFFX8\", \"TNBUFFX16\", \"TNBUFFX32\", \"AND2X1\", \"AND2X2\", \"AND2X4\",\n",
    "    \"AND3X1\", \"AND3X2\", \"AND3X4\", \"AND4X1\", \"AND4X2\", \"AND4X4\", \"NAND2X0\",\n",
    "    \"NAND2X1\", \"NAND2X2\", \"NAND2X4\", \"NAND3X0\", \"NAND3X1\", \"NAND3X2\",\n",
    "    \"NAND3X4\", \"NAND4X0\", \"NAND4X1\", \"OR2X1\", \"OR2X2\", \"OR2X4\", \"OR3X1\",\n",
    "    \"OR3X2\", \"OR3X4\", \"OR4X1\", \"OR4X2\", \"OR4X4\", \"NOR2X0\", \"NOR2X1\", \"NOR2X2\",\n",
    "    \"NOR2X4\", \"NOR3X0\", \"NOR3X1\", \"NOR3X2\", \"NOR3X4\", \"NOR4X0\", \"NOR4X1\",\n",
    "    \"XOR2X1\", \"XOR2X2\", \"XOR3X1\", \"XOR3X2\", \"XNOR2X1\", \"XNOR2X2\", \"XNOR3X1\",\n",
    "    \"XNOR3X2\", \"AO21X1\", \"AO21X2\", \"AO22X1\", \"AO22X2\", \"AO221X1\", \"AO221X2\",\n",
    "    \"AO222X1\", \"AO222X2\", \"AOI21X1\", \"AOI21X2\", \"AOI22X1\", \"AOI22X2\",\n",
    "    \"AOI221X1\", \"AOI221X2\", \"AOI222X1\", \"AOI222X2\", \"OA21X1\", \"OA21X2\",\n",
    "    \"OA22X1\", \"OA22X2\", \"OA221X1\", \"OA221X2\", \"OA222X1\", \"OA222X2\", \"OAI21X1\",\n",
    "    \"OAI21X2\", \"OAI22X1\", \"OAI22X2\", \"OAI221X1\", \"OAI221X2\", \"OAI222X1\",\n",
    "    \"OAI222X2\", \"MUX21X1\", \"MUX21X2\", \"MUX41X1\", \"MUX41X2\", \"DEC24X1\",\n",
    "    \"DEC24X2\", \"HADDX1\", \"HADDX2\", \"FADDX1\", \"FADDX2\", \"DFFPOSX1\", \"DFFX1\",\n",
    "    \"DFFX2\", \"DFFASX1\", \"DFFASX2\", \"DFFARX1\", \"DFFARX2\", \"DFFASRX1\",\n",
    "    \"DFFASRX2\", \"DFFSSRX1\", \"DFFSSRX2\", \"DFFNX1\", \"DFFNX2\", \"DFFNASX1\",\n",
    "    \"DFFNASX2\", \"DFFNARX1\", \"DFFNARX2\", \"DFFNASRX1\", \"DFFNASRX2\", \"DFFNASRQX1\",\n",
    "    \"DFFNASRQX2\", \"DFFNASRNX1\", \"DFFNASRNX2\", \"SDFFX1\", \"SDFFX2\", \"SDFFASX1\",\n",
    "    \"SDFFASX2\", \"SDFFARX1\", \"SDFFARX2\", \"SDFFASRX1\", \"SDFFASRX2\", \"SDFFASRSX1\",\n",
    "    \"SDFFASRSX2\", \"SDFFSSRX1\", \"SDFFSSRX2\", \"SDFFNX1\", \"SDFFNX2\", \"SDFFNASX1\",\n",
    "    \"SDFFNASX2\", \"SDFFNARX1\", \"SDFFNARX2\", \"SDFFNASRX1\", \"SDFFNASRX2\",\n",
    "    \"LNANDX1\", \"LNANDX2\", \"LATCHX1\", \"LATCHX2\", \"LASX1\", \"LASX2\", \"LARX1\",\n",
    "    \"LARX2\", \"LASRX1\", \"LASRX2\", \"LASRQX1\", \"LASRQX2\", \"LASRNX1\", \"LASRNX2\",\n",
    "    \"CGLPPSX2\", \"CGLPPSX4\", \"CGLPPSX8\", \"CGLPPSX16\", \"CGLNPSX2\", \"CGLNPSX4\",\n",
    "    \"CGLNPSX8\", \"CGLNPSX16\", \"CGLPPRX2\", \"CGLPPRX8\", \"CGLNPRX2\", \"CGLNPRX8\",\n",
    "    \"DELLN1X2\", \"DELLN2X2\", \"DELLN3X2\", \"PGX1\", \"PGX2\", \"PGX4\", \"BSLEX1\",\n",
    "    \"BSLEX2\", \"BSLEX4\", \"ISOLANDX1\", \"ISOLANDX2\", \"ISOLANDX4\", \"ISOLANDX8\",\n",
    "    \"ISOLORX1\", \"ISOLORX2\", \"ISOLORX4\", \"ISOLORX8\", \"LSUPX1\", \"LSUPX2\",\n",
    "    \"LSUPX4\", \"LSUPX8\", \"LSDNX1\", \"LSDNX2\", \"LSDNX4\", \"LSDNX8\", \"LSUPENX1\",\n",
    "    \"LSUPENX2\", \"LSUPENX4\", \"LSUPENX8\", \"LSDNENX1\", \"LSDNENX2\", \"LSDNENX4\",\n",
    "    \"LSDNENX8\", \"RDFFX1\", \"RDFFX2\", \"RSDFFX1\", \"RSDFFX2\", \"RDFFNX1\", \"RDFFNX2\",\n",
    "    \"RSDFFNX1\", \"RSDFFNX2\", \"HEADX2\", \"HEADX4\", \"HEADX8\", \"HEADX16\", \"HEADX32\",\n",
    "    \"AOINVX1\", \"AOINVX2\", \"AOINVX4\", \"AOBUFX1\", \"AOBUFX2\", \"AOBUFX4\",\n",
    "    \"AODFFARX1\", \"AODFFARX2\", \"AODFFNARX1\", \"AODFFNARX2\", \"BUSKP\", \"PMT1\",\n",
    "    \"PMT2\", \"PMT3\", \"NMT1\", \"NMT2\", \"NMT3\", \"TIEH\", \"TIEL\", \"ANTENNA\", \"DCAP\",\n",
    "    \"CLOAD1\", \"SHFILL2\", \"DHFILLHLH2\", \"DHFILLLHL2\", \"DHFILLHLHLS11\"\n",
    "    \"AND2X1\", \"AND2X2\", \"AOI21X1\", \"AOI22X1\", \"BUFX2\", \"BUFX4\", \"CLKBUF1\",\n",
    "    \"CLKBUF2\", \"CLKBUF3\", \"DFFNEGX1\", \"DFFPOSX1\", \"DFFSR\", \"FAX1\", \"HAX1\",\n",
    "    \"INVX1\", \"INVX2\", \"INVX4\", \"INVX8\", \"LATCH\", \"MUX2X1\", \"MUX2X1\", \"NAND2X1\",\n",
    "    \"NAND3X1\", \"NOR2X1\", \"NOR3X1\", \"OAI21X1\", \"OAI22X1\", \"OR2X1\", \"OR2X2\",\n",
    "    \"PADINC\", \"PADINOUT\", \"PADOUT\", \"TBUFX1\", \"TBUFX2\", \"XNOR2X1\", \"XOR2X1\"]\n",
    "def parse_gates(lines):\n",
    "    m_gates=[]\n",
    "    for line in lines:\n",
    "      cellname=line.strip().split()[0].strip()\n",
    "      gname=\"\"\n",
    "      gtype=\"\"\n",
    "      g=Gate(\"\",\"\",[],[],0)\n",
    "      if cellname in StdCells:# [\"INVX0\",\"INVX1\",\"INVX2\",\"INVX4\",\"INVX8\",\"INVX16\",\"INVX32\",\"IBUFFX2\",\"IBUFFX4\",\"IBUFFX8\",\"IBUFFX16\",\"IBUFFX32\",\"NBUFFX2\",\"NBUFFX4\",\"NBUFFX8\",\"NBUFFX16\",\"NBUFFX32\"]:\n",
    "        gtype=cellname\n",
    "        gname=line.strip().split()[1]\n",
    "        X=int(cellname[len(cellname)-1:len(cellname)])\n",
    "        if X==0:\n",
    "          X=0.5\n",
    "        gcellload=X\n",
    "        inps=[]\n",
    "        outs=[]\n",
    "        s=line[line.find(\"(\")+1:line.rfind(\")\")].split(',')\n",
    "        for i in range(len(s)):\n",
    "          if s[i].strip().split('(')[0] in [\".Y\",\".YPAD\",\".DI\",\".YS\",\".QN\", \".ZN\",\".Q\",\".Q3\",\".Q2\",\".Q1\" ,\".Q0\",\".SO\",\".C1\", \".CO\", \".S\"] and not line.strip().startswith('MUX') :#re.search('^\\.Q',s[i].strip())|re.search('^\\.QN',s[i].strip())|re.search('^\\.ZN',s[i].strip())|re.search('^\\.S',s[i].strip())|re.search('^\\.CLK',s[i].strip())|re.search('^\\.I',s[i].strip())|re.search('^\\.I',s[i].strip())|re.search('^\\.I',s[i].strip()):\n",
    "            strpar=s[i][s[i].find(\"(\")+1:s[i].rfind(\")\")].strip()\n",
    "            outs+=unpackArray(strpar)#.append(s[i][s[i].find(\"(\")+1:s[i].rfind(\")\")].strip()) \n",
    "          else:\n",
    "            inps+=unpackArray(s[i][s[i].find(\"(\")+1:s[i].rfind(\")\")].strip())\n",
    "        m_gates+=Gate(gname,gtype,inps,outs,gcellload)"
   ]
  },
  {
   "cell_type": "code",
   "execution_count": null,
   "metadata": {
    "ExecuteTime": {
     "end_time": "2020-12-31T16:56:41.574712Z",
     "start_time": "2020-12-31T16:56:41.571721Z"
    },
    "hidden": true
   },
   "outputs": [],
   "source": [
    "print(parse_gates(lines))"
   ]
  },
  {
   "cell_type": "code",
   "execution_count": null,
   "metadata": {
    "ExecuteTime": {
     "end_time": "2020-12-31T16:33:17.746862Z",
     "start_time": "2020-12-31T16:33:17.736867Z"
    },
    "code_folding": [
     0
    ],
    "hidden": true
   },
   "outputs": [],
   "source": [
    "def parse_primary_inputes(lines):\n",
    "    m_inps=[]\n",
    "    for line in lines:\n",
    "        if \"input\" in line.lower():\n",
    "            if line.find('[') >= 0:\n",
    "                s3 = line.strip().split()\n",
    "                s = s3[1][1:len(s3[1])].split(':')[0]\n",
    "                e = s3[1][1:len(s3[1])].split(':')[1].split(']')[0]\n",
    "                sname = line.strip().split(\n",
    "                    ']')[1][0:len(line.strip().split(']')[1]) - 1]\n",
    "                for i in range(int(e), int(s) + 1):\n",
    "                    m_inps.append(sname + '_' + str(i))\n",
    "\n",
    "            else:\n",
    "                s = line.split()[1][0:len(line.split()[1]) - 1]\n",
    "                m_inps.append(s)  #+=line.split()[1][0:len(line.split()[1])-1]\n",
    "            continue\n",
    "    return m_inps"
   ]
  },
  {
   "cell_type": "code",
   "execution_count": null,
   "metadata": {
    "ExecuteTime": {
     "end_time": "2020-12-31T23:59:40.256116Z",
     "start_time": "2020-12-31T23:59:40.225094Z"
    },
    "hidden": true
   },
   "outputs": [],
   "source": [
    "print(procAssigns('  assign Capacitance = { Trojan.load [62], Trojan.load [62], Trojan.load [62], Trojan.load [62], Trojan.load [62], Trojan.load [62], Trojan.load [62], Trojan.load [62], Trojan.load [55], Trojan.load [55], Trojan.load [55], Trojan.load [55], Trojan.load [55], Trojan.load [55], Trojan.load [55], Trojan.load [55], Trojan.load [47], Trojan.load [47], Trojan.load [47], Trojan.load [47], Trojan.load [47], Trojan.load [47], Trojan.load [47], Trojan.load [47], Trojan.load [39], Trojan.load [39], Trojan.load [39], Trojan.load [39], Trojan.load [39], Trojan.load [39], Trojan.load [39], Trojan.load [39], Trojan.load [31], Trojan.load [31], Trojan.load [31], Trojan.load [31], Trojan.load [31], Trojan.load [31], Trojan.load [31], Trojan.load [31], Trojan.load [23], Trojan.load [23], Trojan.load [23], Trojan.load [23], Trojan.load [23], Trojan.load [23], Trojan.load [23], Trojan.load [23], Trojan.load [15], Trojan.load [15], Trojan.load [15], Trojan.load [15], Trojan.load [15], Trojan.load [15], Trojan.load [15], Trojan.load [15], Trojan.load [7], Trojan.load [7], Trojan.load [7], Trojan.load [7], Trojan.load [7], Trojan.load [7], Trojan.load [7], Trojan.load [7] };'))"
   ]
  },
  {
   "cell_type": "code",
   "execution_count": null,
   "metadata": {
    "ExecuteTime": {
     "end_time": "2020-12-31T23:47:39.656848Z",
     "start_time": "2020-12-31T23:47:39.651846Z"
    },
    "hidden": true
   },
   "outputs": [],
   "source": [
    "print(m_wires2)"
   ]
  },
  {
   "cell_type": "code",
   "execution_count": null,
   "metadata": {
    "ExecuteTime": {
     "end_time": "2020-12-31T23:39:12.022077Z",
     "start_time": "2020-12-31T23:39:12.014071Z"
    },
    "hidden": true,
    "run_control": {
     "marked": false
    }
   },
   "outputs": [],
   "source": [
    "w='AES.a1.S4_0.S_2.in_6 ;'\n",
    "print('6'.isnumeric())\n",
    "s=w.split('_')[len(w.split('_'))-1].split(';')[0].strip()\n",
    "print(s)\n",
    "if s.isnumeric():\n",
    "    print('m',w.rsplit('_',1)[0])\n"
   ]
  },
  {
   "cell_type": "code",
   "execution_count": null,
   "metadata": {
    "ExecuteTime": {
     "end_time": "2020-12-31T23:26:47.869731Z",
     "start_time": "2020-12-31T23:26:47.834709Z"
    },
    "code_folding": [],
    "hidden": true
   },
   "outputs": [],
   "source": [
    "def unpackArray(s):\n",
    "    import re\n",
    "    lst = []\n",
    "    pattern = \"\\[(.*?)\\]\"\n",
    "    ss = re.search(pattern, s)\n",
    "    print(ss)\n",
    "    if ss:\n",
    "        l = ss.group(1).split(':')\n",
    "        #print(l[0])\n",
    "        if len(l) > 1:\n",
    "            left = int(l[0])\n",
    "            right = int(l[1])\n",
    "            if left > right:\n",
    "                for i in range(left, right - 1, -1):\n",
    "                    lst.append(s.strip().split('[')[0].strip() + \"_\" +\n",
    "                               str(i).strip())\n",
    "            else:\n",
    "                for i in range(left, right + 1, 1):\n",
    "                    lst.append(s.strip().split('[')[0].strip() + \"_\" +\n",
    "                               str(i).strip())\n",
    "        else:\n",
    "            lst.append(s.strip().split('[')[0].strip() + \"_\" +\n",
    "                       str(l[0]).strip())\n",
    "    else:\n",
    "        if s in m_wires or s in m_wires2:\n",
    "            lst.append(w)\n",
    "#         for w in m_wires:\n",
    "#             if w.rsplit('_',1)[0]==s or w==s:\n",
    "#                 lst.append(w)\n",
    "    return lst\n",
    "print(m_wires2)\n",
    "line='assign Capacitance = { Trojan.load [62], Trojan.load [62], Trojan.load [62], Trojan.load [62], Trojan.load [62], Trojan.load [62], Trojan.load [62], Trojan.load [62], Trojan.load [55], Trojan.load [55], Trojan.load [55], Trojan.load [55], Trojan.load [55], Trojan.load [55], Trojan.load [55], Trojan.load [55], Trojan.load [47], Trojan.load [47], Trojan.load [47], Trojan.load [47], Trojan.load [47], Trojan.load [47], Trojan.load [47], Trojan.load [47], Trojan.load [39], Trojan.load [39], Trojan.load [39], Trojan.load [39], Trojan.load [39], Trojan.load [39], Trojan.load [39], Trojan.load [39], Trojan.load [31], Trojan.load [31], Trojan.load [31], Trojan.load [31], Trojan.load [31], Trojan.load [31], Trojan.load [31], Trojan.load [31], Trojan.load [23], Trojan.load [23], Trojan.load [23], Trojan.load [23], Trojan.load [23], Trojan.load [23], Trojan.load [23], Trojan.load [23], Trojan.load [15], Trojan.load [15], Trojan.load [15], Trojan.load [15], Trojan.load [15], Trojan.load [15], Trojan.load [15], Trojan.load [15], Trojan.load [7], Trojan.load [7], Trojan.load [7], Trojan.load [7], Trojan.load [7], Trojan.load [7], Trojan.load [7], Trojan.load [7] };'\n",
    "s=line.split('=')[0].strip().split(' ',1)[1]\n",
    "print(s,unpackArray(s))"
   ]
  },
  {
   "cell_type": "code",
   "execution_count": null,
   "metadata": {
    "ExecuteTime": {
     "end_time": "2020-12-31T07:51:18.451139Z",
     "start_time": "2020-12-31T07:51:18.441133Z"
    },
    "code_folding": [],
    "hidden": true,
    "run_control": {
     "marked": false
    },
    "scrolled": true
   },
   "outputs": [],
   "source": [
    "lines=[\"wire [7:0] a;\",\"wire [7:0] b;\",\"wire [3:0] c;\",\"wire [1:0] d;\",\"wire [7:0] e;\",\"assign e={a[1:0],b[1:0],c[1:0],d}\",\"assign c=b[7:4];\",\"assign c={a[1:0],b[1:0]}; \",\n",
    "       \"assign {c[2],c[1],c[0]}={a[7],b[1:0]};\",\"assign {c[2],c[1],c[0]}={a[7],b[1],b[0]};\",\"assign a=b;  \"]\n",
    "m_wires=[]\n",
    "m_gates={}\n",
    "allwires={}\n",
    "m_wires=read_wires(lines)\n",
    "\n",
    "g=[]#Gate(\"\",\"\",[],[],0)\n",
    "    if([e for e in [\"assign\"] if(e in line)]):#StdCells+\n",
    "      #print(line)\n",
    "      #print(line)\n",
    "      g=extractGateInfo(line)\n",
    "      for gg in g:\n",
    "          for ot in gg.outputs:\n",
    "            m_gates[ot]=gg \n"
   ]
  },
  {
   "cell_type": "code",
   "execution_count": null,
   "metadata": {
    "ExecuteTime": {
     "end_time": "2020-12-31T07:50:38.175567Z",
     "start_time": "2020-12-31T07:50:37.766331Z"
    },
    "code_folding": [
     0
    ],
    "hidden": true,
    "run_control": {
     "marked": true
    }
   },
   "outputs": [],
   "source": [
    "def unpackArray(s):\n",
    "    import re\n",
    "    lst = []\n",
    "    pattern = \"\\[(.*?)\\]\"\n",
    "    ss = re.search(pattern, s)\n",
    "    #print(ss)\n",
    "    if ss:\n",
    "        l = ss.group(1).split(':')\n",
    "        #print(l[0])\n",
    "        if len(l) > 1:\n",
    "            left = int(l[0])\n",
    "            right = int(l[1])\n",
    "            if left > right:\n",
    "                for i in range(left, right - 1, -1):\n",
    "                    lst.append(s.strip().split('[')[0].strip() + \"_\" +\n",
    "                               str(i).strip())\n",
    "            else:\n",
    "                for i in range(left, right + 1, 1):\n",
    "                    lst.append(s.strip().split('[')[0].strip() + \"_\" +\n",
    "                               str(i).strip())\n",
    "        else:\n",
    "            lst.append(s.strip().split('[')[0].strip() + \"_\" +\n",
    "                       str(l[0]).strip())\n",
    "    else:\n",
    "        #m = re.search(r'_\\d+$', s)\n",
    "       # print(s)\n",
    "        #if m is not None:\n",
    "        for w in m_wires:\n",
    "            #print(w.rsplit('_',1)[0])\n",
    "            if w.rsplit('_',1)[0]==s or w==s:\n",
    "                lst.append(w)\n",
    "        #lst.append(s)\n",
    "    return lst\n",
    "print(unpackArray('d',m_wires))\n",
    "#print(m_wires)"
   ]
  },
  {
   "cell_type": "code",
   "execution_count": null,
   "metadata": {
    "ExecuteTime": {
     "end_time": "2020-12-31T07:50:55.700087Z",
     "start_time": "2020-12-31T07:50:55.674069Z"
    },
    "code_folding": [
     1,
     8,
     41
    ],
    "hidden": true,
    "run_control": {
     "marked": true
    }
   },
   "outputs": [],
   "source": [
    "import re\n",
    "class Gate:\n",
    "    def __init__(self, name, gtype, inputs, outputs, CellLoad):\n",
    "        self.name = name\n",
    "        self.gtype = gtype\n",
    "        self.inputs = inputs\n",
    "        self.outputs = outputs\n",
    "        self.CellLoad = CellLoad\n",
    "def unpackArray(s):\n",
    "    import re\n",
    "    lst = []\n",
    "    pattern = \"\\[(.*?)\\]\"\n",
    "    ss = re.search(pattern, s)\n",
    "    #print(ss)\n",
    "    if ss:\n",
    "        l = ss.group(1).split(':')\n",
    "        #print(l[0])\n",
    "        if len(l) > 1:\n",
    "            left = int(l[0])\n",
    "            right = int(l[1])\n",
    "            if left > right:\n",
    "                for i in range(left, right - 1, -1):\n",
    "                    lst.append(s.strip().split('[')[0].strip() + \"_\" +\n",
    "                               str(i).strip())\n",
    "            else:\n",
    "                for i in range(left, right + 1, 1):\n",
    "                    lst.append(s.strip().split('[')[0].strip() + \"_\" +\n",
    "                               str(i).strip())\n",
    "        else:\n",
    "            lst.append(s.strip().split('[')[0].strip() + \"_\" +\n",
    "                       str(l[0]).strip())\n",
    "    else:\n",
    "        #m = re.search(r'_\\d+$', s)\n",
    "       # print(s)\n",
    "        #if m is not None:\n",
    "        for w in m_wires:\n",
    "            #print(w.rsplit('_',1)[0])\n",
    "            if w.rsplit('_',1)[0]==s or w==s:\n",
    "                lst.append(w)\n",
    "        #lst.append(s)\n",
    "    return lst\n",
    "def extractGateInfo(line):\n",
    "  cellname=line.strip().split()[0].strip()\n",
    "  gname=\"\"\n",
    "  gtype=\"\"\n",
    "  g=[]#Gate(\"\",\"\",[],[],0)\n",
    "#   if cellname in StdCells:# [\"INVX0\",\"INVX1\",\"INVX2\",\"INVX4\",\"INVX8\",\"INVX16\",\"INVX32\",\"IBUFFX2\",\"IBUFFX4\",\"IBUFFX8\",\"IBUFFX16\",\"IBUFFX32\",\"NBUFFX2\",\"NBUFFX4\",\"NBUFFX8\",\"NBUFFX16\",\"NBUFFX32\"]:\n",
    "#     gtype=cellname\n",
    "#     gname=line.strip().split()[1]\n",
    "#     X=int(cellname[len(cellname)-1:len(cellname)])\n",
    "#     if X==0:\n",
    "#       X=0.5\n",
    "#     gcellload=X\n",
    "#     inps=[]\n",
    "#     outs=[]\n",
    "#     s=line[line.find(\"(\")+1:line.rfind(\")\")].split(',')\n",
    "#     for i in range(len(s)):\n",
    "#       if s[i].strip().split('(')[0] in [\".Y\",\".YPAD\",\".DI\",\".YS\",\".QN\", \".ZN\",\".Q\",\".Q3\",\".Q2\",\".Q1\" ,\".Q0\",\".SO\",\".C1\", \".CO\", \".S\"] and not line.strip().startswith('MUX') :#re.search('^\\.Q',s[i].strip())|re.search('^\\.QN',s[i].strip())|re.search('^\\.ZN',s[i].strip())|re.search('^\\.S',s[i].strip())|re.search('^\\.CLK',s[i].strip())|re.search('^\\.I',s[i].strip())|re.search('^\\.I',s[i].strip())|re.search('^\\.I',s[i].strip()):\n",
    "#         strpar=s[i][s[i].find(\"(\")+1:s[i].rfind(\")\")].strip()\n",
    "#         outs+=unpackArray(strpar)#.append(s[i][s[i].find(\"(\")+1:s[i].rfind(\")\")].strip()) \n",
    "#       else:\n",
    "#         inps+=unpackArray(s[i][s[i].find(\"(\")+1:s[i].rfind(\")\")].strip())\n",
    "#     g=Gate(gname,gtype,inps,outs,gcellload)\n",
    "  if cellname.strip()==\"assign\":\n",
    "    #print(line)\n",
    "    g=procAssigns(line)\n",
    "    \n",
    "  return g"
   ]
  },
  {
   "cell_type": "code",
   "execution_count": null,
   "metadata": {
    "ExecuteTime": {
     "end_time": "2020-12-31T07:51:00.875828Z",
     "start_time": "2020-12-31T07:51:00.857816Z"
    },
    "hidden": true
   },
   "outputs": [],
   "source": [
    "print(procAssigns(\"assign c=b[7:4]\").inputs)\n",
    "print(unpackArray(\"assign c=b[7:4];\".split('=')[1].strip().split(';')[0]))\n"
   ]
  },
  {
   "cell_type": "code",
   "execution_count": null,
   "metadata": {
    "ExecuteTime": {
     "end_time": "2020-12-29T23:09:56.151860Z",
     "start_time": "2020-12-29T23:09:56.140852Z"
    },
    "hidden": true
   },
   "outputs": [],
   "source": [
    "ggg=extractGateInfo('assign c=b[7:4];')\n",
    "print(m_gates[0].inputs,ggg[1].inputs,ggg[2].inputs,ggg[0].outputs,ggg[1].outputs,ggg[2].outputs)"
   ]
  },
  {
   "cell_type": "code",
   "execution_count": null,
   "metadata": {
    "ExecuteTime": {
     "end_time": "2020-12-29T23:02:42.954489Z",
     "start_time": "2020-12-29T23:02:42.949484Z"
    },
    "hidden": true
   },
   "outputs": [],
   "source": [
    "for g in m_gates:\n",
    "    print(g)\n",
    "    print('assign ',m_gates[g].outputs,' = ',m_gates[g].inputs)"
   ]
  },
  {
   "cell_type": "markdown",
   "metadata": {
    "ExecuteTime": {
     "end_time": "2020-12-29T19:11:48.719689Z",
     "start_time": "2020-12-29T19:11:48.698673Z"
    },
    "code_folding": [
     0,
     33
    ],
    "hidden": true,
    "run_control": {
     "marked": true
    }
   },
   "source": [
    "wire [7:0] a;\n",
    "wire [7:0] b;\n",
    "wire [3:0] c;\n",
    "wire [1:0] d;\n",
    "wire [7:0] e;\n",
    "assign e={a[1:0],b[1:0],c[1:0],d}\n",
    "assign c=b[7:4];\n",
    "assign c={a[1:0],b[1:0]}; \n",
    "assign {c[2],c[1],c[0]}={a[7],b[1:0]};\n",
    "assign {c[2],c[1],c[0]}={a[7],b[1],b[0]};\n",
    "assign a=b;\n"
   ]
  },
  {
   "cell_type": "code",
   "execution_count": null,
   "metadata": {
    "hidden": true
   },
   "outputs": [],
   "source": [
    "for g in m_gates:\n",
    "    print(m_gates[g].inputs,m_gates[g].outputs,m_gates[g].gtype)"
   ]
  },
  {
   "cell_type": "code",
   "execution_count": null,
   "metadata": {
    "ExecuteTime": {
     "end_time": "2020-12-29T16:08:57.330878Z",
     "start_time": "2020-12-29T16:08:57.265406Z"
    },
    "hidden": true
   },
   "outputs": [],
   "source": [
    "import re\n",
    "m = re.search(r'_\\d+$', 'a_0_5')\n",
    "# if the string ends in digits m will be a Match object, or None otherwise.\n",
    "if m is not None:\n",
    "    print('a_0_5'.rsplit('_',1)[0])\n",
    "    print (m.group())"
   ]
  },
  {
   "cell_type": "code",
   "execution_count": null,
   "metadata": {
    "hidden": true
   },
   "outputs": [],
   "source": []
  }
 ],
 "metadata": {
  "celltoolbar": "Raw Cell Format",
  "hide_input": false,
  "kernelspec": {
   "display_name": "Python 3",
   "language": "python",
   "name": "python3"
  },
  "language_info": {
   "codemirror_mode": {
    "name": "ipython",
    "version": 3
   },
   "file_extension": ".py",
   "mimetype": "text/x-python",
   "name": "python",
   "nbconvert_exporter": "python",
   "pygments_lexer": "ipython3",
   "version": "3.8.3"
  },
  "varInspector": {
   "cols": {
    "lenName": 16,
    "lenType": 16,
    "lenVar": 40
   },
   "kernels_config": {
    "python": {
     "delete_cmd_postfix": "",
     "delete_cmd_prefix": "del ",
     "library": "var_list.py",
     "varRefreshCmd": "print(var_dic_list())"
    },
    "r": {
     "delete_cmd_postfix": ") ",
     "delete_cmd_prefix": "rm(",
     "library": "var_list.r",
     "varRefreshCmd": "cat(var_dic_list()) "
    }
   },
   "oldHeight": 315.85,
   "position": {
    "height": "40px",
    "left": "818px",
    "right": "20px",
    "top": "125px",
    "width": "529px"
   },
   "types_to_exclude": [
    "module",
    "function",
    "builtin_function_or_method",
    "instance",
    "_Feature"
   ],
   "varInspector_section_display": "none",
   "window_display": true
  },
  "widgets": {
   "application/vnd.jupyter.widget-state+json": {
    "state": {},
    "version_major": 2,
    "version_minor": 0
   }
  }
 },
 "nbformat": 4,
 "nbformat_minor": 4
}
